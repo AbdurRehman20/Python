{
 "cells": [
  {
   "cell_type": "code",
   "execution_count": null,
   "id": "117f56ae",
   "metadata": {},
   "outputs": [],
   "source": []
  },
  {
   "cell_type": "markdown",
   "id": "80caca2a",
   "metadata": {},
   "source": [
    "# 2nd video"
   ]
  },
  {
   "cell_type": "code",
   "execution_count": null,
   "id": "d45ab128",
   "metadata": {},
   "outputs": [],
   "source": [
    "ruff='qwerty'\n",
    "ruff_2='asdfgh'"
   ]
  },
  {
   "cell_type": "code",
   "execution_count": null,
   "id": "338ad800",
   "metadata": {},
   "outputs": [],
   "source": [
    "concatinating=f'{ruff},{ruff_2.upper},Welcome!'"
   ]
  },
  {
   "cell_type": "code",
   "execution_count": null,
   "id": "ec0f4018",
   "metadata": {},
   "outputs": [],
   "source": [
    "concatinating"
   ]
  },
  {
   "cell_type": "code",
   "execution_count": null,
   "id": "665f8519",
   "metadata": {},
   "outputs": [],
   "source": [
    "print(help(str.lower))"
   ]
  },
  {
   "cell_type": "markdown",
   "id": "80bf41ff",
   "metadata": {},
   "source": [
    "# 3rd video"
   ]
  },
  {
   "cell_type": "code",
   "execution_count": null,
   "id": "096d81c5",
   "metadata": {},
   "outputs": [],
   "source": [
    "3//2"
   ]
  },
  {
   "cell_type": "code",
   "execution_count": null,
   "id": "e18026ea",
   "metadata": {},
   "outputs": [],
   "source": [
    "num=5"
   ]
  },
  {
   "cell_type": "code",
   "execution_count": null,
   "id": "0376be4c",
   "metadata": {},
   "outputs": [],
   "source": [
    "num-=8.5643"
   ]
  },
  {
   "cell_type": "code",
   "execution_count": null,
   "id": "3164e801",
   "metadata": {},
   "outputs": [],
   "source": [
    "print(abs(round(num,2)))\n"
   ]
  },
  {
   "cell_type": "code",
   "execution_count": null,
   "id": "43eb4c5e",
   "metadata": {},
   "outputs": [],
   "source": [
    "num_1='100'\n",
    "num_2='200'\n",
    "num_1+num_2"
   ]
  },
  {
   "cell_type": "code",
   "execution_count": null,
   "id": "f8dc9967",
   "metadata": {},
   "outputs": [],
   "source": [
    "num_1=100\n",
    "num_2=200\n",
    "num_1+num_2\n"
   ]
  },
  {
   "cell_type": "code",
   "execution_count": null,
   "id": "afa9d28a",
   "metadata": {},
   "outputs": [],
   "source": [
    "num_1=int(100)\n",
    "num_2=int(200)\n",
    "num_1+num_2"
   ]
  },
  {
   "cell_type": "markdown",
   "id": "c8a01e07",
   "metadata": {},
   "source": [
    "# 4th video"
   ]
  },
  {
   "cell_type": "markdown",
   "id": "27269ac4",
   "metadata": {},
   "source": [
    "# List "
   ]
  },
  {
   "cell_type": "code",
   "execution_count": null,
   "id": "6a2dfa4a",
   "metadata": {},
   "outputs": [],
   "source": [
    "# courses=['History','Math','Physics','CompSci']\n",
    "# courses_2=['Art','Education']\n",
    "# courses[0:3]\n",
    "# (courses.append('art'))\n",
    "# courses.insert(0,courses_2)\n",
    "# courses.extend(courses_2)\n",
    "# courses.remove('Math')\n",
    "# popped=courses.pop()"
   ]
  },
  {
   "cell_type": "code",
   "execution_count": null,
   "id": "73b67b3b",
   "metadata": {},
   "outputs": [],
   "source": [
    "# print(courses)"
   ]
  },
  {
   "cell_type": "code",
   "execution_count": null,
   "id": "0b1bb43b",
   "metadata": {},
   "outputs": [],
   "source": [
    "\n",
    "# popped"
   ]
  },
  {
   "cell_type": "code",
   "execution_count": null,
   "id": "ff5dd7d6",
   "metadata": {},
   "outputs": [],
   "source": [
    "# courses.reverse()"
   ]
  },
  {
   "cell_type": "code",
   "execution_count": null,
   "id": "033e45eb",
   "metadata": {},
   "outputs": [],
   "source": [
    "# print(courses)"
   ]
  },
  {
   "cell_type": "code",
   "execution_count": null,
   "id": "163bb3b8",
   "metadata": {},
   "outputs": [],
   "source": [
    "# nums=[1,5,2,3,4]\n",
    "# sorted_nums=nums.sort()\n",
    "# sorted_course=courses.sort()"
   ]
  },
  {
   "cell_type": "code",
   "execution_count": null,
   "id": "bfe82c6b",
   "metadata": {},
   "outputs": [],
   "source": [
    "# print(nums)\n",
    "# print(courses)"
   ]
  },
  {
   "cell_type": "code",
   "execution_count": null,
   "id": "25872427",
   "metadata": {},
   "outputs": [],
   "source": [
    "# nums.sort(reverse=True)\n",
    "# print(nums)"
   ]
  },
  {
   "cell_type": "code",
   "execution_count": null,
   "id": "75d8e444",
   "metadata": {},
   "outputs": [],
   "source": [
    "# courses.sort(reverse=True)"
   ]
  },
  {
   "cell_type": "code",
   "execution_count": null,
   "id": "a96ef7b4",
   "metadata": {},
   "outputs": [],
   "source": [
    "# courses"
   ]
  },
  {
   "cell_type": "code",
   "execution_count": null,
   "id": "96124d9e",
   "metadata": {},
   "outputs": [],
   "source": [
    "# print(min(nums))"
   ]
  },
  {
   "cell_type": "code",
   "execution_count": null,
   "id": "33de0946",
   "metadata": {},
   "outputs": [],
   "source": [
    "# print(max(nums))"
   ]
  },
  {
   "cell_type": "code",
   "execution_count": null,
   "id": "935c976e",
   "metadata": {},
   "outputs": [],
   "source": [
    "# print(sum(nums))"
   ]
  },
  {
   "cell_type": "code",
   "execution_count": null,
   "id": "27209805",
   "metadata": {},
   "outputs": [],
   "source": [
    "# print(courses.index('Art'))"
   ]
  },
  {
   "cell_type": "code",
   "execution_count": null,
   "id": "707a833b",
   "metadata": {},
   "outputs": [],
   "source": [
    "# print('Art' in courses)"
   ]
  },
  {
   "cell_type": "code",
   "execution_count": null,
   "id": "36f8f886",
   "metadata": {},
   "outputs": [],
   "source": [
    "# print('Art'in courses_2)"
   ]
  },
  {
   "cell_type": "code",
   "execution_count": null,
   "id": "1312a3b1",
   "metadata": {},
   "outputs": [],
   "source": [
    "# for item in courses:\n",
    "#     print(item)"
   ]
  },
  {
   "cell_type": "code",
   "execution_count": null,
   "id": "e2e185c6",
   "metadata": {},
   "outputs": [],
   "source": [
    "#  for course in courses:\n",
    "#     print(course)"
   ]
  },
  {
   "cell_type": "markdown",
   "id": "92c8011a",
   "metadata": {},
   "source": [
    "# enumerate cell"
   ]
  },
  {
   "cell_type": "code",
   "execution_count": null,
   "id": "7ac77f54",
   "metadata": {},
   "outputs": [],
   "source": [
    "#  for index,course in enumerate(courses):\n",
    "#     print(index,course)"
   ]
  },
  {
   "cell_type": "code",
   "execution_count": null,
   "id": "cccae3ef",
   "metadata": {},
   "outputs": [],
   "source": [
    "# index,course used in upper code is only variable"
   ]
  },
  {
   "cell_type": "code",
   "execution_count": null,
   "id": "7d4f9881",
   "metadata": {},
   "outputs": [],
   "source": [
    "# enumerate is the main thing"
   ]
  },
  {
   "cell_type": "code",
   "execution_count": null,
   "id": "093f24ad",
   "metadata": {},
   "outputs": [],
   "source": [
    "#  for index,course in enumerate(courses,start=1):\n",
    "#   print(index,course)"
   ]
  },
  {
   "cell_type": "code",
   "execution_count": null,
   "id": "4f154421",
   "metadata": {},
   "outputs": [],
   "source": [
    "# course_str='-'.join(courses)\n",
    "# course_str=','.join(courses)\n"
   ]
  },
  {
   "cell_type": "code",
   "execution_count": null,
   "id": "98bb8a8b",
   "metadata": {},
   "outputs": [],
   "source": [
    "# print(course_str)"
   ]
  },
  {
   "cell_type": "code",
   "execution_count": null,
   "id": "12297e18",
   "metadata": {},
   "outputs": [],
   "source": [
    "# course_str='-'.join(courses)\n",
    "# new_list= course_str.split('-')\n",
    "# last code returns the original list "
   ]
  },
  {
   "cell_type": "code",
   "execution_count": null,
   "id": "51de21c5",
   "metadata": {},
   "outputs": [],
   "source": [
    "# print(new_list)"
   ]
  },
  {
   "cell_type": "markdown",
   "id": "1d64d504",
   "metadata": {},
   "source": [
    "# Tuple"
   ]
  },
  {
   "cell_type": "code",
   "execution_count": null,
   "id": "bd4d2f1c",
   "metadata": {},
   "outputs": [],
   "source": [
    "# list_1=['History','Math','Physics','CompSci']"
   ]
  },
  {
   "cell_type": "code",
   "execution_count": null,
   "id": "587b9869",
   "metadata": {},
   "outputs": [],
   "source": [
    "# list_2=list_1"
   ]
  },
  {
   "cell_type": "code",
   "execution_count": null,
   "id": "9ec83272",
   "metadata": {},
   "outputs": [],
   "source": [
    "# print(list_1)"
   ]
  },
  {
   "cell_type": "code",
   "execution_count": null,
   "id": "bc6b5a29",
   "metadata": {},
   "outputs": [],
   "source": [
    "# print(list_2)"
   ]
  },
  {
   "cell_type": "code",
   "execution_count": null,
   "id": "1714dc3c",
   "metadata": {},
   "outputs": [],
   "source": [
    "# list_1[0]='Art'\n",
    "# in this code we equals art with index of list no.1"
   ]
  },
  {
   "cell_type": "code",
   "execution_count": null,
   "id": "f2be5141",
   "metadata": {},
   "outputs": [],
   "source": [
    "# print(list_1)\n",
    "# print(list_2)"
   ]
  },
  {
   "cell_type": "code",
   "execution_count": null,
   "id": "5a824330",
   "metadata": {},
   "outputs": [],
   "source": [
    "#BUT NOW IN TUPLE COMPARISON THE DIFF "
   ]
  },
  {
   "cell_type": "code",
   "execution_count": null,
   "id": "37e8cae6",
   "metadata": {},
   "outputs": [],
   "source": [
    "# tuple_1=('History','Math','Physics','CompSci')\n",
    "# tuple_2=tuple_2\n",
    "# print(tuple_1)\n",
    "# print(tuple_2)\n",
    "# tuple_1[0]='Art'\n",
    "#  ALL UPPER IS ALL WRONG BCZ IMMUTABLE, FIRST IT NOT ASSIGN"
   ]
  },
  {
   "cell_type": "markdown",
   "id": "532b6c68",
   "metadata": {},
   "source": [
    "# Sets"
   ]
  },
  {
   "cell_type": "code",
   "execution_count": null,
   "id": "d3908ffd",
   "metadata": {},
   "outputs": [],
   "source": [
    "# cs_courses = {'History','Math','Physics','CompSci','Math'}\n",
    "# print(cs_courses)\n",
    "# DUPLICATE REMOVED"
   ]
  },
  {
   "cell_type": "code",
   "execution_count": null,
   "id": "a57f2495",
   "metadata": {},
   "outputs": [],
   "source": [
    "# print('Math'in cs_courses)"
   ]
  },
  {
   "cell_type": "code",
   "execution_count": null,
   "id": "82980020",
   "metadata": {},
   "outputs": [],
   "source": [
    "# cs_courses={'History','Math','Physics','CompSci'}\n",
    "# art_courses={'History','Art','Math',\"Design\"}"
   ]
  },
  {
   "cell_type": "code",
   "execution_count": null,
   "id": "3c67b806",
   "metadata": {},
   "outputs": [],
   "source": [
    "# print('Math'in cs_courses)"
   ]
  },
  {
   "cell_type": "code",
   "execution_count": null,
   "id": "807b9a4d",
   "metadata": {},
   "outputs": [],
   "source": [
    "# print(cs_courses.intersection(art_courses))"
   ]
  },
  {
   "cell_type": "code",
   "execution_count": null,
   "id": "7b0dac30",
   "metadata": {},
   "outputs": [],
   "source": [
    "# print(cs_courses.difference(art_courses))"
   ]
  },
  {
   "cell_type": "code",
   "execution_count": null,
   "id": "e374b52f",
   "metadata": {},
   "outputs": [],
   "source": [
    "# print(cs_courses.union(art_courses))"
   ]
  },
  {
   "cell_type": "code",
   "execution_count": null,
   "id": "c6addd2f",
   "metadata": {},
   "outputs": [],
   "source": [
    "# empty_list=[]\n",
    "# empty_list=list()"
   ]
  },
  {
   "cell_type": "code",
   "execution_count": null,
   "id": "59846939",
   "metadata": {},
   "outputs": [],
   "source": [
    "# empty_tuple=()\n",
    "# empty_tuple=tuple()"
   ]
  },
  {
   "cell_type": "code",
   "execution_count": null,
   "id": "4949e176",
   "metadata": {},
   "outputs": [],
   "source": [
    "# empty_set={}=False\n",
    "# empty_set_2=set()\n",
    "# type(empty_set)\n",
    "# ANSWER WILL BE DICT BCZ THIS IS NOT A TRUE METHOD TO MAKE A SET"
   ]
  },
  {
   "cell_type": "markdown",
   "id": "21c8fea6",
   "metadata": {},
   "source": [
    "# 5th Video"
   ]
  },
  {
   "cell_type": "markdown",
   "id": "9b64a9b7",
   "metadata": {},
   "source": [
    "# Dictionaries"
   ]
  },
  {
   "cell_type": "code",
   "execution_count": null,
   "id": "ebcb7c68",
   "metadata": {},
   "outputs": [],
   "source": [
    "# Key is unique identifier\n",
    "# and value is what was that"
   ]
  },
  {
   "cell_type": "code",
   "execution_count": null,
   "id": "606dbe79",
   "metadata": {},
   "outputs": [],
   "source": [
    "# student={'name':'john','age':25,'courses':['Math','CompSci']}"
   ]
  },
  {
   "cell_type": "code",
   "execution_count": null,
   "id": "1908171e",
   "metadata": {},
   "outputs": [],
   "source": [
    "# print(student)"
   ]
  },
  {
   "cell_type": "code",
   "execution_count": null,
   "id": "186e4365",
   "metadata": {},
   "outputs": [],
   "source": [
    "# print(student['name'])"
   ]
  },
  {
   "cell_type": "code",
   "execution_count": null,
   "id": "1b7fa99b",
   "metadata": {},
   "outputs": [],
   "source": [
    "# print(student['courses'])"
   ]
  },
  {
   "cell_type": "code",
   "execution_count": null,
   "id": "1156b3ec",
   "metadata": {},
   "outputs": [],
   "source": [
    "# print(student['phone'])"
   ]
  },
  {
   "cell_type": "code",
   "execution_count": null,
   "id": "0a5107fc",
   "metadata": {},
   "outputs": [],
   "source": [
    "# print(student.get('name'))"
   ]
  },
  {
   "cell_type": "code",
   "execution_count": null,
   "id": "15b7d372",
   "metadata": {},
   "outputs": [],
   "source": [
    "# print(student.get('phone'))"
   ]
  },
  {
   "cell_type": "code",
   "execution_count": null,
   "id": "7b19a984",
   "metadata": {},
   "outputs": [],
   "source": [
    "# print(student.get('phone','NOt Found'))"
   ]
  },
  {
   "cell_type": "code",
   "execution_count": null,
   "id": "a54a2d91",
   "metadata": {},
   "outputs": [],
   "source": [
    "# student={'name':'john','age':25,'courses':['Math','CompSci']}\n",
    "# student['phone'] = '555-5555'\n",
    "# student['name'] = 'jane'\n",
    "# # print(student.get('phone','NOt Found'))\n",
    "# print(student)"
   ]
  },
  {
   "cell_type": "code",
   "execution_count": null,
   "id": "2dce96fd",
   "metadata": {},
   "outputs": [],
   "source": [
    "# student={'name':'john','age':25,'courses':['Math','CompSci']}\n",
    "# student.update({'name':'jana','age':'26','phone':'555-5555'})\n",
    "# print(student)"
   ]
  },
  {
   "cell_type": "code",
   "execution_count": null,
   "id": "6d1e12b8",
   "metadata": {},
   "outputs": [],
   "source": [
    "# student={'name':'john','age':25,'courses':['Math','CompSci']}\n",
    "# # del student['age']\n",
    "# print(student)"
   ]
  },
  {
   "cell_type": "code",
   "execution_count": null,
   "id": "4e6beb90",
   "metadata": {},
   "outputs": [],
   "source": [
    "# student={'name':'john','age':25,'courses':['Math','CompSci']}\n",
    "# age=student.pop('age')\n",
    "# print(student)\n",
    "# print(age)"
   ]
  },
  {
   "cell_type": "code",
   "execution_count": null,
   "id": "0423cfa5",
   "metadata": {},
   "outputs": [],
   "source": [
    "student={'name':'john','age':25,'courses':['Math','CompSci']}\n",
    "# print(len(student))\n"
   ]
  },
  {
   "cell_type": "code",
   "execution_count": null,
   "id": "08a26afa",
   "metadata": {},
   "outputs": [],
   "source": [
    "print(student.keys())"
   ]
  },
  {
   "cell_type": "code",
   "execution_count": null,
   "id": "7c74aacc",
   "metadata": {},
   "outputs": [],
   "source": [
    "print(student.values())"
   ]
  },
  {
   "cell_type": "code",
   "execution_count": null,
   "id": "78385822",
   "metadata": {},
   "outputs": [],
   "source": [
    "print(student.items())"
   ]
  },
  {
   "cell_type": "code",
   "execution_count": null,
   "id": "3fdbcb07",
   "metadata": {},
   "outputs": [],
   "source": [
    "for key in student:\n",
    "    print(key)"
   ]
  },
  {
   "cell_type": "markdown",
   "id": "0be55968",
   "metadata": {},
   "source": [
    "# .items getting both key and values"
   ]
  },
  {
   "cell_type": "code",
   "execution_count": null,
   "id": "6d8b2ab1",
   "metadata": {},
   "outputs": [],
   "source": [
    "for key,value in student.items():\n",
    "    print(key,value)\n",
    "    #AGAIN THE KEY VALUE IS VARIABLE///SO MAIN Y=THING IS STUDENT .ITMES()"
   ]
  },
  {
   "cell_type": "markdown",
   "id": "2337635d",
   "metadata": {},
   "source": [
    "# 6th Video"
   ]
  },
  {
   "cell_type": "code",
   "execution_count": null,
   "id": "daa4ea54",
   "metadata": {},
   "outputs": [],
   "source": [
    "# if True:\n",
    "#     print('conditional was True')"
   ]
  },
  {
   "cell_type": "code",
   "execution_count": null,
   "id": "213d78d2",
   "metadata": {},
   "outputs": [],
   "source": [
    "# if False:\n",
    "#     print('conditional was True')"
   ]
  },
  {
   "cell_type": "code",
   "execution_count": 9,
   "id": "3b778136",
   "metadata": {},
   "outputs": [],
   "source": [
    "# language = 'Python'\n",
    "# if language == 'Python':\n",
    "#     print('conditional was True')"
   ]
  },
  {
   "cell_type": "code",
   "execution_count": 14,
   "id": "c3c7b5a5",
   "metadata": {},
   "outputs": [
    {
     "name": "stdout",
     "output_type": "stream",
     "text": [
      "language is java\n"
     ]
    }
   ],
   "source": [
    "# language = 'java'\n",
    "# if language == 'Python':\n",
    "#     print('language is python')\n",
    "# elif language == 'java':\n",
    "#     print('language is java')\n",
    "# elif language == 'javaScript':\n",
    "#     print('language is javaScript')    \n",
    "# else:\n",
    "#     print('no match')"
   ]
  },
  {
   "cell_type": "code",
   "execution_count": 15,
   "id": "cbf01883",
   "metadata": {},
   "outputs": [
    {
     "name": "stdout",
     "output_type": "stream",
     "text": [
      "Admin Page\n"
     ]
    }
   ],
   "source": [
    "# user='Admin'\n",
    "# logged_in=True\n",
    "# if user =='Admin' and logged_in:\n",
    "#     print('Admin Page')\n",
    "# else:\n",
    "#     print('Bad Creds')"
   ]
  },
  {
   "cell_type": "code",
   "execution_count": 16,
   "id": "d1ec0873",
   "metadata": {},
   "outputs": [
    {
     "name": "stdout",
     "output_type": "stream",
     "text": [
      "Bad Creds\n"
     ]
    }
   ],
   "source": [
    "# user='Admin'\n",
    "# logged_in=False\n",
    "# if user =='Admin' and logged_in:\n",
    "#     print('Admin Page')\n",
    "# else:\n",
    "#     print('Bad Creds')"
   ]
  },
  {
   "cell_type": "code",
   "execution_count": 17,
   "id": "326294eb",
   "metadata": {},
   "outputs": [
    {
     "name": "stdout",
     "output_type": "stream",
     "text": [
      "Admin Page\n"
     ]
    }
   ],
   "source": [
    "# user='Admin'\n",
    "# logged_in=True\n",
    "# if user =='Admin' or logged_in:\n",
    "#     print('Admin Page')\n",
    "# else:\n",
    "#     print('Bad Creds')"
   ]
  },
  {
   "cell_type": "code",
   "execution_count": 18,
   "id": "b66ad806",
   "metadata": {},
   "outputs": [
    {
     "name": "stdout",
     "output_type": "stream",
     "text": [
      "welcome\n"
     ]
    }
   ],
   "source": [
    "# user='Admin'\n",
    "# logged_in=True\n",
    "# if not logged_in:\n",
    "#     print('please log in')\n",
    "# else:\n",
    "#     print('welcome')"
   ]
  },
  {
   "cell_type": "code",
   "execution_count": 19,
   "id": "39416985",
   "metadata": {},
   "outputs": [
    {
     "name": "stdout",
     "output_type": "stream",
     "text": [
      "please log in\n"
     ]
    }
   ],
   "source": [
    "# user='Admin'\n",
    "# logged_in=False\n",
    "# if not logged_in:\n",
    "#     print('please log in')\n",
    "# else:\n",
    "#     print('welcome')"
   ]
  },
  {
   "cell_type": "code",
   "execution_count": 22,
   "id": "900ca94c",
   "metadata": {},
   "outputs": [],
   "source": [
    "# a=[1,2,3]\n",
    "# b=[1,2,3]\n",
    "# print(a==b)"
   ]
  },
  {
   "cell_type": "code",
   "execution_count": 24,
   "id": "1b162a2f",
   "metadata": {},
   "outputs": [],
   "source": [
    "# a=[1,2,3]\n",
    "# b=[1,2,3]\n",
    "# print(a is b)"
   ]
  },
  {
   "cell_type": "code",
   "execution_count": 27,
   "id": "19410735",
   "metadata": {},
   "outputs": [],
   "source": [
    "# a=[1,2,3]\n",
    "# b=[1,2,3]\n",
    "# print(id(a))\n",
    "# print(id(b))\n",
    "# print(a == b)\n"
   ]
  },
  {
   "cell_type": "code",
   "execution_count": 32,
   "id": "2b8dcd89",
   "metadata": {},
   "outputs": [],
   "source": [
    "# a=[1,2,3]\n",
    "# b=[1,2,3]\n",
    "# print(id(a))\n",
    "# print(id(b))\n",
    "# print(a == b)\n"
   ]
  },
  {
   "cell_type": "code",
   "execution_count": 33,
   "id": "a3603c7e",
   "metadata": {},
   "outputs": [],
   "source": [
    "# a=[1,2,3]\n",
    "# b=[1,2,3]\n",
    "# print(id(a))\n",
    "# print(id(b))\n",
    "# # print(id(a) == id(b))"
   ]
  },
  {
   "cell_type": "code",
   "execution_count": 35,
   "id": "a3b9ca44",
   "metadata": {},
   "outputs": [],
   "source": [
    "# condition=False\n",
    "# if condition:\n",
    "#     print('Evaluated is True')\n",
    "# else:\n",
    "#     print('Evaluated is False')"
   ]
  },
  {
   "cell_type": "code",
   "execution_count": 41,
   "id": "3d2e6a18",
   "metadata": {},
   "outputs": [],
   "source": [
    "# condition=True\n",
    "# if condition:\n",
    "#     print('Evaluated is True')\n",
    "# else:\n",
    "#     print('Evaluated is False')"
   ]
  },
  {
   "cell_type": "code",
   "execution_count": 42,
   "id": "63b70b82",
   "metadata": {},
   "outputs": [],
   "source": [
    "# condition=None\n",
    "# if condition:\n",
    "#     print('Evaluated is True')\n",
    "# else:\n",
    "#     print('Evaluated is False')"
   ]
  },
  {
   "cell_type": "code",
   "execution_count": 44,
   "id": "af7f6711",
   "metadata": {},
   "outputs": [],
   "source": [
    "# condition=0\n",
    "# if condition:\n",
    "#     print('Evaluated is True')\n",
    "# else:\n",
    "#     print('Evaluated is False')"
   ]
  },
  {
   "cell_type": "code",
   "execution_count": 47,
   "id": "627c2cd5",
   "metadata": {},
   "outputs": [],
   "source": [
    "# condition=10\n",
    "# if condition:\n",
    "#     print('Evaluated is True')\n",
    "# else:\n",
    "#     print('Evaluated is False')"
   ]
  },
  {
   "cell_type": "code",
   "execution_count": 49,
   "id": "77aacff4",
   "metadata": {},
   "outputs": [],
   "source": [
    "# condition=[]\n",
    "# if condition:\n",
    "#     print('Evaluated is True')\n",
    "# else:\n",
    "# #   print('Evaluated is False')"
   ]
  },
  {
   "cell_type": "code",
   "execution_count": 51,
   "id": "0e68a282",
   "metadata": {},
   "outputs": [],
   "source": [
    "# condition=''\n",
    "# if condition:\n",
    "#     print('Evaluated is True')\n",
    "# else:\n",
    "#     print('Evaluated is False')"
   ]
  },
  {
   "cell_type": "code",
   "execution_count": 53,
   "id": "7d9e6906",
   "metadata": {},
   "outputs": [],
   "source": [
    "# condition=()\n",
    "# if condition:\n",
    "#     print('Evaluated is True')\n",
    "# else:\n",
    "#     print('Evaluated is False')"
   ]
  },
  {
   "cell_type": "code",
   "execution_count": 55,
   "id": "55e84a73",
   "metadata": {},
   "outputs": [],
   "source": [
    "# \n"
   ]
  },
  {
   "cell_type": "code",
   "execution_count": 57,
   "id": "61c2e324",
   "metadata": {},
   "outputs": [],
   "source": [
    "# condition='Test'\n",
    "# if condition:\n",
    "#     print('Evaluated is True')\n",
    "# else:\n",
    "#     print('Evaluated is False')"
   ]
  },
  {
   "cell_type": "code",
   "execution_count": 58,
   "id": "0e108c8a",
   "metadata": {},
   "outputs": [],
   "source": [
    "# True condition in #if condition is True: # is Default"
   ]
  },
  {
   "cell_type": "code",
   "execution_count": 59,
   "id": "858f1a1b",
   "metadata": {},
   "outputs": [],
   "source": [
    "# condition=0\n",
    "# if condition:\n",
    "#     print('Evaluated is True')\n",
    "# else:\n",
    "#     print('Evaluated is False')"
   ]
  },
  {
   "cell_type": "markdown",
   "id": "5d11e90c",
   "metadata": {},
   "source": [
    "# 7th Video"
   ]
  },
  {
   "cell_type": "code",
   "execution_count": 75,
   "id": "63961236",
   "metadata": {},
   "outputs": [],
   "source": [
    "nums=[1,2,3,4,5]"
   ]
  },
  {
   "cell_type": "code",
   "execution_count": 65,
   "id": "dca658f4",
   "metadata": {},
   "outputs": [
    {
     "name": "stdout",
     "output_type": "stream",
     "text": [
      "1\n",
      "2\n",
      "3\n",
      "4\n",
      "5\n"
     ]
    }
   ],
   "source": [
    "# for num in nums:\n",
    "#     print(num)"
   ]
  },
  {
   "cell_type": "code",
   "execution_count": 70,
   "id": "a91fca56",
   "metadata": {},
   "outputs": [],
   "source": [
    "# for num in nums:\n",
    "#     if num==3:\n",
    "#         print('found')\n",
    "#         break\n",
    "#     print(num)"
   ]
  },
  {
   "cell_type": "code",
   "execution_count": 72,
   "id": "99db1bce",
   "metadata": {},
   "outputs": [],
   "source": [
    "# for num in nums:\n",
    "#     if num==3:\n",
    "#         print('found')\n",
    "#         continue\n",
    "#     print(num)"
   ]
  },
  {
   "cell_type": "code",
   "execution_count": 77,
   "id": "d70b111a",
   "metadata": {},
   "outputs": [],
   "source": [
    "# for num in nums:\n",
    "#     for letter in 'abc':\n",
    "#         print(num,letter)"
   ]
  },
  {
   "cell_type": "code",
   "execution_count": 80,
   "id": "5d975470",
   "metadata": {},
   "outputs": [],
   "source": [
    "# for i in range(10):\n",
    "#     print(i)"
   ]
  },
  {
   "cell_type": "code",
   "execution_count": 82,
   "id": "51e0b8c4",
   "metadata": {},
   "outputs": [],
   "source": [
    "# for i in range(1,10):\n",
    "#     print(i)"
   ]
  },
  {
   "cell_type": "code",
   "execution_count": 84,
   "id": "7fdc82db",
   "metadata": {},
   "outputs": [],
   "source": [
    "# for i in range(1,11):\n",
    "#     print(i)"
   ]
  },
  {
   "cell_type": "code",
   "execution_count": 90,
   "id": "c3287d0f",
   "metadata": {},
   "outputs": [],
   "source": [
    "# x=0\n",
    "# while x<10:\n",
    "#     print(x)\n",
    "#     x+=1\n"
   ]
  },
  {
   "cell_type": "code",
   "execution_count": 91,
   "id": "7eda6547",
   "metadata": {},
   "outputs": [],
   "source": [
    "# x=0\n",
    "# while x<10:\n",
    "#     if x==5:\n",
    "#         break\n",
    "#     print(x)\n",
    "#     x+=1\n"
   ]
  },
  {
   "cell_type": "code",
   "execution_count": null,
   "id": "17b48c6b",
   "metadata": {},
   "outputs": [],
   "source": [
    "##############infinite loop\n",
    "# x=0\n",
    "# while True:\n",
    "#     print(x)\n",
    "#     x+=1\n",
    "##############infinite loop"
   ]
  },
  {
   "cell_type": "code",
   "execution_count": null,
   "id": "ee81ed2d",
   "metadata": {},
   "outputs": [],
   "source": [
    "# x=0\n",
    "# while x<10:\n",
    "#     if x==5:\n",
    "#         break\n",
    "#     print(x)\n",
    "#     x+=1\n"
   ]
  },
  {
   "cell_type": "markdown",
   "id": "1b49dc13",
   "metadata": {},
   "source": [
    "# 8th video"
   ]
  },
  {
   "cell_type": "code",
   "execution_count": null,
   "id": "1b11d8ea",
   "metadata": {},
   "outputs": [],
   "source": []
  }
 ],
 "metadata": {
  "kernelspec": {
   "display_name": "Python 3 (ipykernel)",
   "language": "python",
   "name": "python3"
  },
  "language_info": {
   "codemirror_mode": {
    "name": "ipython",
    "version": 3
   },
   "file_extension": ".py",
   "mimetype": "text/x-python",
   "name": "python",
   "nbconvert_exporter": "python",
   "pygments_lexer": "ipython3",
   "version": "3.9.2"
  }
 },
 "nbformat": 4,
 "nbformat_minor": 5
}
