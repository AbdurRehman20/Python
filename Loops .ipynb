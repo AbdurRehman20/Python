{
 "cells": [
  {
   "cell_type": "markdown",
   "id": "5291f319",
   "metadata": {},
   "source": [
    "# Q1"
   ]
  },
  {
   "cell_type": "code",
   "execution_count": null,
   "id": "5138b9ee",
   "metadata": {},
   "outputs": [],
   "source": [
    "nums=int(input(\"Enter a number:\"))\n",
    "if nums==0 :\n",
    "    print(\"Number is zero\")\n",
    "elif nums>=0 :\n",
    "    print(\"Number is Positive\")\n",
    "elif nums<=0 :\n",
    "    print(\"Number us Negative\")\n",
    "else :\n",
    "    print(\"Error\")"
   ]
  },
  {
   "cell_type": "markdown",
   "id": "31297c14",
   "metadata": {},
   "source": [
    "# Q2"
   ]
  },
  {
   "cell_type": "code",
   "execution_count": null,
   "id": "7fae0bb4",
   "metadata": {},
   "outputs": [],
   "source": [
    "nums=int(input(\"Enter a number:\"))\n",
    "if nums%2==0 :\n",
    "    print(\"Number is even\")\n",
    "elif nums%2==1 :\n",
    "    print(\"Number is even\")\n",
    "else :\n",
    "    print(\"Error\")    "
   ]
  },
  {
   "cell_type": "markdown",
   "id": "4423e787",
   "metadata": {},
   "source": [
    "# Q3"
   ]
  },
  {
   "cell_type": "code",
   "execution_count": null,
   "id": "e18554e9",
   "metadata": {},
   "outputs": [],
   "source": [
    "nums=int(input(\"Enter a number:\"))\n",
    "even=[]\n",
    "odd=[]\n",
    "for num in range(0,nums,+1):\n",
    "    if num%2==0:\n",
    "#         print(num,\"is even.\") \n",
    "        even.append(num)\n",
    "    elif num%2==1:\n",
    "#         print(num,\"is odd\")\n",
    "        odd.append(num)\n",
    "    else :\n",
    "        print(\"error\")\n",
    "print(\"Even:\",even)\n",
    "print(\"Odd:\",odd)"
   ]
  },
  {
   "cell_type": "markdown",
   "id": "9c5704d3",
   "metadata": {},
   "source": [
    "# Q4"
   ]
  },
  {
   "cell_type": "code",
   "execution_count": 20,
   "id": "24f514d7",
   "metadata": {},
   "outputs": [
    {
     "name": "stdout",
     "output_type": "stream",
     "text": [
      "Enter a character-1\n",
      "You enter a punctuation\n"
     ]
    }
   ],
   "source": [
    "char=input(\"Enter a character\")\n",
    "if char.isalpha():\n",
    "    print(\"You enter a alphabet\")\n",
    "elif char.isdigit():\n",
    "    print(\"You enter a digit\")\n",
    "else :\n",
    "    print(\"You enter a punctuation\")"
   ]
  },
  {
   "cell_type": "markdown",
   "id": "0c987361",
   "metadata": {},
   "source": [
    "# Q4"
   ]
  },
  {
   "cell_type": "code",
   "execution_count": 18,
   "id": "df870a9e",
   "metadata": {},
   "outputs": [
    {
     "name": "stdout",
     "output_type": "stream",
     "text": [
      "Enter a characterwe\n",
      "You entered a alphabet\n"
     ]
    }
   ],
   "source": [
    "char=input(\"Enter a character\")\n",
    "if char<='z' and char>='a':\n",
    "    print(\"You entered a alphabet\")\n",
    "elif char<='0' or char>='0' :\n",
    "    print(\"You entered a digit\")\n",
    "else :\n",
    "    print(\"You entered a punctuation\")\n",
    "\n",
    "    "
   ]
  },
  {
   "cell_type": "markdown",
   "id": "365c4f16",
   "metadata": {},
   "source": [
    "# Q5"
   ]
  },
  {
   "cell_type": "code",
   "execution_count": 21,
   "id": "d0564932",
   "metadata": {},
   "outputs": [
    {
     "name": "stdout",
     "output_type": "stream",
     "text": [
      "Enter a alphabeta\n",
      "Alphabet is vowel\n"
     ]
    }
   ],
   "source": [
    "alphabet=input(\"Enter a alphabet\")\n",
    "if alphabet=='a' or alphabet=='e' or alphabet=='i' or alphabet=='o' or alphabet=='u':\n",
    "    print(\"Alphabet is vowel\")\n",
    "else:\n",
    "    print(\"Alphabet is consonant\")"
   ]
  },
  {
   "cell_type": "markdown",
   "id": "ea07132a",
   "metadata": {},
   "source": [
    "# Q6"
   ]
  },
  {
   "cell_type": "code",
   "execution_count": 25,
   "id": "10873e85",
   "metadata": {},
   "outputs": [
    {
     "name": "stdout",
     "output_type": "stream",
     "text": [
      "Enter a string:gbhhjui\n",
      "7\n",
      "0\n"
     ]
    }
   ],
   "source": [
    "string=input(\"Enter a string:\")\n",
    "vowel=0\n",
    "consonant=0\n",
    "for char in string:\n",
    "    if alphabet=='a' or alphabet=='e' or alphabet=='i' or alphabet=='o' or alphabet=='u':\n",
    "        vowel+=1\n",
    "#         print(\"Alphabet is vowel\")\n",
    "    else:\n",
    "        consonant+=1   \n",
    "#          print(\"Alphabet is consonant\")   \n",
    "print(vowel)\n",
    "print(consonant)"
   ]
  },
  {
   "cell_type": "markdown",
   "id": "f949aa78",
   "metadata": {},
   "source": [
    "# Q7"
   ]
  },
  {
   "cell_type": "code",
   "execution_count": 10,
   "id": "2d3b917d",
   "metadata": {},
   "outputs": [
    {
     "name": "stdout",
     "output_type": "stream",
     "text": [
      "Enter a number12\n",
      "12 is not a prime number\n"
     ]
    }
   ],
   "source": [
    "nums=int(input(\"Enter a number\"))\n",
    "if nums/nums==0:\n",
    "    print(nums,\"is a prime number\")\n",
    "else :\n",
    "    print(nums,\"is not a prime number\")\n",
    "    "
   ]
  },
  {
   "cell_type": "markdown",
   "id": "e02ae844",
   "metadata": {},
   "source": [
    "# Q8"
   ]
  },
  {
   "cell_type": "code",
   "execution_count": null,
   "id": "4f9c4fd8",
   "metadata": {},
   "outputs": [],
   "source": [
    "nums=int(input(\"Enter a number\"))\n",
    "if nums/nums==0:\n",
    "    for num on nums :"
   ]
  }
 ],
 "metadata": {
  "kernelspec": {
   "display_name": "Python 3 (ipykernel)",
   "language": "python",
   "name": "python3"
  },
  "language_info": {
   "codemirror_mode": {
    "name": "ipython",
    "version": 3
   },
   "file_extension": ".py",
   "mimetype": "text/x-python",
   "name": "python",
   "nbconvert_exporter": "python",
   "pygments_lexer": "ipython3",
   "version": "3.9.2"
  }
 },
 "nbformat": 4,
 "nbformat_minor": 5
}
