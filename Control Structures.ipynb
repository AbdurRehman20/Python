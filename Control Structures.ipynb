{
 "cells": [
  {
   "cell_type": "markdown",
   "id": "5b9319bd",
   "metadata": {},
   "source": [
    "# Control Structures"
   ]
  },
  {
   "cell_type": "markdown",
   "id": "8f11a241",
   "metadata": {},
   "source": [
    "# Q1"
   ]
  },
  {
   "cell_type": "code",
   "execution_count": null,
   "id": "cb2062c9",
   "metadata": {},
   "outputs": [],
   "source": [
    "a=int(input(\"Enter a number:\"))"
   ]
  },
  {
   "cell_type": "code",
   "execution_count": null,
   "id": "6d8d52f0",
   "metadata": {},
   "outputs": [],
   "source": []
  },
  {
   "cell_type": "code",
   "execution_count": null,
   "id": "cd61ada0",
   "metadata": {},
   "outputs": [],
   "source": [
    "if a > 0:\n",
    "    print(\"number is positive\")\n",
    "elif a == 0:\n",
    "    print(\"number is zero\")\n",
    "else:\n",
    "    print(\"number is negative\")"
   ]
  },
  {
   "cell_type": "markdown",
   "id": "dfc36e3c",
   "metadata": {},
   "source": [
    "# Q2"
   ]
  },
  {
   "cell_type": "code",
   "execution_count": null,
   "id": "4925450d",
   "metadata": {},
   "outputs": [],
   "source": [
    "a=int(input(\"enter a number:\"))"
   ]
  },
  {
   "cell_type": "code",
   "execution_count": null,
   "id": "9982d36e",
   "metadata": {},
   "outputs": [],
   "source": [
    "if a%2:\n",
    "    print(\"odd\")\n",
    "else:\n",
    "    print('even')"
   ]
  },
  {
   "cell_type": "markdown",
   "id": "04c136cf",
   "metadata": {},
   "source": [
    "# Q3 "
   ]
  },
  {
   "cell_type": "code",
   "execution_count": null,
   "id": "43817ca4",
   "metadata": {},
   "outputs": [],
   "source": []
  },
  {
   "cell_type": "code",
   "execution_count": null,
   "id": "912a1ff5",
   "metadata": {},
   "outputs": [],
   "source": [
    "num = int(input(\"please enter a no. upto which you want :\"))\n",
    "for number in range(1,num+1):\n",
    "    if (number%2!=0):\n",
    "        print(\"odd no.\", format(number))\n",
    "    else:\n",
    "        print(\"even no.\", format(number))"
   ]
  },
  {
   "cell_type": "code",
   "execution_count": null,
   "id": "6157574e",
   "metadata": {},
   "outputs": [],
   "source": []
  },
  {
   "cell_type": "code",
   "execution_count": null,
   "id": "aba70eee",
   "metadata": {},
   "outputs": [],
   "source": []
  },
  {
   "cell_type": "code",
   "execution_count": null,
   "id": "196b1159",
   "metadata": {},
   "outputs": [],
   "source": []
  },
  {
   "cell_type": "code",
   "execution_count": null,
   "id": "982680ec",
   "metadata": {},
   "outputs": [],
   "source": []
  },
  {
   "cell_type": "code",
   "execution_count": null,
   "id": "7a5406d0",
   "metadata": {},
   "outputs": [],
   "source": []
  },
  {
   "cell_type": "code",
   "execution_count": null,
   "id": "0cf4026a",
   "metadata": {},
   "outputs": [],
   "source": []
  },
  {
   "cell_type": "code",
   "execution_count": null,
   "id": "f322603f",
   "metadata": {},
   "outputs": [],
   "source": []
  },
  {
   "cell_type": "markdown",
   "id": "bf3e5323",
   "metadata": {},
   "source": [
    "# Q4"
   ]
  },
  {
   "cell_type": "code",
   "execution_count": null,
   "id": "18af7020",
   "metadata": {},
   "outputs": [],
   "source": [
    "a=input('enter a number:')"
   ]
  },
  {
   "cell_type": "code",
   "execution_count": null,
   "id": "3c89a188",
   "metadata": {},
   "outputs": [],
   "source": [
    "if a.isdigit():\n",
    "    print('digit')\n",
    "elif a.isalpha():\n",
    "    print('alphabet')\n",
    "else:\n",
    "    print('punctuation')"
   ]
  },
  {
   "cell_type": "markdown",
   "id": "466c4285",
   "metadata": {},
   "source": [
    "# Q5"
   ]
  },
  {
   "cell_type": "code",
   "execution_count": null,
   "id": "3cb3d764",
   "metadata": {},
   "outputs": [],
   "source": [
    "var_1st=str(input('enter a alphabet:'))"
   ]
  },
  {
   "cell_type": "code",
   "execution_count": null,
   "id": "f5893a73",
   "metadata": {},
   "outputs": [],
   "source": [
    "var_2nd=(\"a,e,i,o,u\")"
   ]
  },
  {
   "cell_type": "code",
   "execution_count": null,
   "id": "8d98db1e",
   "metadata": {},
   "outputs": [],
   "source": [
    "for i in var_1st:\n",
    "    if i in var_2nd:\n",
    "        print('vowel')\n",
    "    else:\n",
    "        print('consonant')"
   ]
  },
  {
   "cell_type": "markdown",
   "id": "340fd19d",
   "metadata": {},
   "source": [
    "# Q6"
   ]
  },
  {
   "cell_type": "code",
   "execution_count": null,
   "id": "bcd41d2a",
   "metadata": {},
   "outputs": [],
   "source": [
    "a=input('enter string:')"
   ]
  },
  {
   "cell_type": "code",
   "execution_count": null,
   "id": "d4c727aa",
   "metadata": {},
   "outputs": [],
   "source": [
    "vowels=['a','e','i','o','u']\n",
    "vowel_count = 0\n",
    "consonant_count = 0"
   ]
  },
  {
   "cell_type": "code",
   "execution_count": null,
   "id": "dfaa3d87",
   "metadata": {},
   "outputs": [],
   "source": [
    "for char in a:\n",
    "    if char in vowels:\n",
    "        print(char,'is a vowel')\n",
    "        vowel_count+=1\n",
    "    else:\n",
    "        print(char,'is a consonant')\n",
    "        consonant_count+=1\n",
    "print('vowels:',vowel_count)\n",
    "print('consonants',consonant_count)"
   ]
  },
  {
   "cell_type": "markdown",
   "id": "368aa3bf",
   "metadata": {},
   "source": [
    "# Q7 "
   ]
  },
  {
   "cell_type": "code",
   "execution_count": null,
   "id": "152869a2",
   "metadata": {},
   "outputs": [],
   "source": [
    "num = int(input())\n",
    "sentinel=True\n",
    "for i in range(1,num):\n",
    "    if i!=1 and num%i==0:\n",
    "        print(num,\"is not a prime no.\")\n",
    "        sentinel = False\n",
    "        break\n",
    "if sentinel == True :\n",
    "    print(num,' is a prime no. ')       "
   ]
  },
  {
   "cell_type": "markdown",
   "id": "323da906",
   "metadata": {},
   "source": [
    "# Q8"
   ]
  },
  {
   "cell_type": "code",
   "execution_count": null,
   "id": "f17bcd33",
   "metadata": {},
   "outputs": [],
   "source": [
    "num = int(input(\"Enter the value upto which you want :\"))\n",
    "for number in range(num+1):\n",
    "       if number > 1:\n",
    "        for i in range (2,number):\n",
    "            if number%i==0 :\n",
    "                break\n",
    "        else:\n",
    "            print(number)\n",
    " "
   ]
  },
  {
   "cell_type": "markdown",
   "id": "1a9409df",
   "metadata": {},
   "source": [
    "# Q9"
   ]
  },
  {
   "cell_type": "code",
   "execution_count": null,
   "id": "85a70f71",
   "metadata": {},
   "outputs": [],
   "source": [
    "year = int(input(\"Enter the year :\"))\n",
    "if year%4 == 0 :\n",
    "    print(year,\"is a leap year\")\n",
    "elif year%100 == 0:\n",
    "    print(year,\"is a leap year\")\n",
    "elif year%400==0:\n",
    "    print(year,\"is a leap year\")\n",
    "else :\n",
    "    print(year ,\"is not a leap year\")"
   ]
  },
  {
   "cell_type": "markdown",
   "id": "3d7a2cb2",
   "metadata": {},
   "source": [
    "# Q10"
   ]
  },
  {
   "cell_type": "code",
   "execution_count": null,
   "id": "2f4f61fc",
   "metadata": {},
   "outputs": [],
   "source": [
    "my_str= 'madam'\n",
    "my_str2=reversed(my_str)\n",
    "if list(my_str) == list(my_str2):\n",
    "    print(\"the string is pelindrome:\")\n",
    "else:\n",
    "    print(\"the string is not a palindrome:\")"
   ]
  },
  {
   "cell_type": "markdown",
   "id": "d1cb0291",
   "metadata": {},
   "source": [
    "# Q11"
   ]
  },
  {
   "cell_type": "code",
   "execution_count": null,
   "id": "864ec9d6",
   "metadata": {},
   "outputs": [],
   "source": [
    "num = int(input(\"enter the no. :\"))\n",
    "factorial=1\n",
    "if num < 0:\n",
    "    print(\"the factorial does not exist :\")\n",
    "elif num == 0:\n",
    "    print(\"the factorial of zero is 1 :\")\n",
    "else:\n",
    "    for i in range(1 , num + 1):\n",
    "        factorial = factorial * i\n",
    "    print(\"the factorial of\",num,\"is\",factorial)"
   ]
  },
  {
   "cell_type": "markdown",
   "id": "41ea01ad",
   "metadata": {},
   "source": [
    "# Q12"
   ]
  },
  {
   "cell_type": "code",
   "execution_count": null,
   "id": "e6b496af",
   "metadata": {},
   "outputs": [],
   "source": [
    "num = int(input(\"Enter the Number:\"))\n",
    "n1, n2 = 0, 1\n",
    "print(\"Fibonacci Series:\", n1, n2, end=\" \")\n",
    "for i in range(2, num):\n",
    "    n3 = n1 + n2\n",
    "    n1 = n2\n",
    "    n2 = n3\n",
    "    print(n3, end=\" \")\n",
    "\n",
    "print()"
   ]
  },
  {
   "cell_type": "markdown",
   "id": "ecb22029",
   "metadata": {},
   "source": [
    "# Q13"
   ]
  },
  {
   "cell_type": "code",
   "execution_count": null,
   "id": "29d9c2b1",
   "metadata": {},
   "outputs": [],
   "source": [
    "user = int(input(\"Enter your marks percentage:\"))\n",
    "if user>=80 :\n",
    "    print(\"your grade is :\",'A')\n",
    "elif user >=60 :\n",
    "    print(\"your grade is :\",'B')\n",
    "elif user >=40 :\n",
    "    print(\"your grade is :\",'C')\n",
    "else:\n",
    "    print(\"your grade is :\"'D')\n",
    "    "
   ]
  },
  {
   "cell_type": "markdown",
   "id": "db1fb490",
   "metadata": {},
   "source": [
    "# Q14"
   ]
  },
  {
   "cell_type": "code",
   "execution_count": 2,
   "id": "27796ff0",
   "metadata": {},
   "outputs": [
    {
     "ename": "TypeError",
     "evalue": "'>=' not supported between instances of 'tuple' and 'int'",
     "output_type": "error",
     "traceback": [
      "\u001b[1;31m---------------------------------------------------------------------------\u001b[0m",
      "\u001b[1;31mTypeError\u001b[0m                                 Traceback (most recent call last)",
      "\u001b[1;32m~\\AppData\\Local\\Temp/ipykernel_1544/11675654.py\u001b[0m in \u001b[0;36m<module>\u001b[1;34m\u001b[0m\n\u001b[0;32m      1\u001b[0m \u001b[0mgiven\u001b[0m \u001b[1;33m=\u001b[0m\u001b[1;33m(\u001b[0m\u001b[1;36m12\u001b[0m\u001b[1;33m,\u001b[0m\u001b[1;36m56\u001b[0m\u001b[1;33m,\u001b[0m\u001b[1;36m78\u001b[0m\u001b[1;33m)\u001b[0m\u001b[1;33m\u001b[0m\u001b[1;33m\u001b[0m\u001b[0m\n\u001b[0;32m      2\u001b[0m \u001b[1;32mfor\u001b[0m \u001b[0mi\u001b[0m \u001b[1;32min\u001b[0m \u001b[0mgiven\u001b[0m\u001b[1;33m:\u001b[0m\u001b[1;33m\u001b[0m\u001b[1;33m\u001b[0m\u001b[0m\n\u001b[1;32m----> 3\u001b[1;33m     \u001b[1;32mif\u001b[0m \u001b[0mgiven\u001b[0m\u001b[1;33m>=\u001b[0m\u001b[1;36m0\u001b[0m \u001b[1;32mand\u001b[0m \u001b[0mgrade\u001b[0m\u001b[1;33m<=\u001b[0m\u001b[1;36m15\u001b[0m\u001b[1;33m:\u001b[0m\u001b[1;33m\u001b[0m\u001b[1;33m\u001b[0m\u001b[0m\n\u001b[0m\u001b[0;32m      4\u001b[0m         \u001b[0mprint\u001b[0m\u001b[1;33m(\u001b[0m\u001b[1;34m\"x-axis\"\u001b[0m\u001b[1;33m)\u001b[0m\u001b[1;33m\u001b[0m\u001b[1;33m\u001b[0m\u001b[0m\n\u001b[0;32m      5\u001b[0m     \u001b[1;32melif\u001b[0m \u001b[0mgiven\u001b[0m\u001b[1;33m>\u001b[0m\u001b[1;36m15\u001b[0m \u001b[1;32mand\u001b[0m \u001b[0mgiven\u001b[0m\u001b[1;33m<\u001b[0m\u001b[1;36m60\u001b[0m\u001b[1;33m:\u001b[0m\u001b[1;33m\u001b[0m\u001b[1;33m\u001b[0m\u001b[0m\n",
      "\u001b[1;31mTypeError\u001b[0m: '>=' not supported between instances of 'tuple' and 'int'"
     ]
    }
   ],
   "source": [
    "given = int(12,56,78)\n",
    "for i in given:\n",
    "    if given>=0 and grade<=15:\n",
    "        print(\"x-axis\")\n",
    "    elif given>15 and given<60:\n",
    "        print(\"y-axis\")\n",
    "    else:\n",
    "        print(\"z-axis\")"
   ]
  },
  {
   "cell_type": "markdown",
   "id": "c63fa8e2",
   "metadata": {},
   "source": [
    "# Q15"
   ]
  },
  {
   "cell_type": "code",
   "execution_count": null,
   "id": "ab100d96",
   "metadata": {},
   "outputs": [],
   "source": [
    "import math\n",
    "x1=int(input(\"enter x1 : \"))\n",
    "x2=int(input(\"enter x2 : \"))\n",
    "y1=int(input(\"enter y1 : \"))\n",
    "y2=int(input(\"enter y2 : \"))\n",
    "my_answer= ((((x2 - x1 )**2) + ((y2-y1)**2)*0.5) )**0.5)\n",
    "print(\"distance between\",(x1,x2),\"and\",(y1,y2),\"is : \",my_answer)"
   ]
  },
  {
   "cell_type": "markdown",
   "id": "88e558a9",
   "metadata": {},
   "source": [
    "# Q16"
   ]
  },
  {
   "cell_type": "code",
   "execution_count": 3,
   "id": "aaa335cd",
   "metadata": {},
   "outputs": [
    {
     "name": "stdout",
     "output_type": "stream",
     "text": [
      "x:2\n",
      "y:2\n",
      "z:2\n",
      "Equilateral triangle : \n",
      "Beacuse all sides are equal\n"
     ]
    }
   ],
   "source": [
    "x = int(input(\"x:\"))\n",
    "y = int(input(\"y:\"))\n",
    "z = int(input(\"z:\"))\n",
    "if x==y==z :\n",
    "    print(\"Equilateral triangle :\",\"\\nBeacuse all sides are equal\")\n",
    "elif x==y or y==z or x==z :\n",
    "    print(\"Isoceles triangle :\",\"\\nBecause the three sides are equal\")\n",
    "else :\n",
    "    print(\"scalene triangle :\",\"\\nBeacuse neither any side is equal\")"
   ]
  },
  {
   "cell_type": "markdown",
   "id": "00f11b9d",
   "metadata": {},
   "source": [
    "# Q17"
   ]
  },
  {
   "cell_type": "code",
   "execution_count": null,
   "id": "c6aead4b",
   "metadata": {},
   "outputs": [],
   "source": [
    "num = 0\n",
    "total = 0\n",
    "while True:\n",
    "    user = input(\"Enter value:\")\n",
    "    if user == 'done':\n",
    "        break\n",
    "    elif num==num+1 and total==num+user :\n",
    "        print(\"num\")\n",
    "    elif total==total+1 :\n",
    "          print(\"sum of the total\")\n",
    "    elif user!=num or num!=total:\n",
    "        print(\"invaild input\")\n",
    "    else:\n",
    "        num=num+1\n",
    "        total=total+1\n",
    "        print(total)"
   ]
  }
 ],
 "metadata": {
  "kernelspec": {
   "display_name": "Python 3 (ipykernel)",
   "language": "python",
   "name": "python3"
  },
  "language_info": {
   "codemirror_mode": {
    "name": "ipython",
    "version": 3
   },
   "file_extension": ".py",
   "mimetype": "text/x-python",
   "name": "python",
   "nbconvert_exporter": "python",
   "pygments_lexer": "ipython3",
   "version": "3.9.2"
  }
 },
 "nbformat": 4,
 "nbformat_minor": 5
}
