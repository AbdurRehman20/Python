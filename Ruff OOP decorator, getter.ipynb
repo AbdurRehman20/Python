{
 "cells": [
  {
   "cell_type": "markdown",
   "id": "27b287f2",
   "metadata": {},
   "source": [
    "# OOP 1st"
   ]
  },
  {
   "cell_type": "code",
   "execution_count": 135,
   "id": "a22885d4",
   "metadata": {},
   "outputs": [
    {
     "data": {
      "text/plain": [
       "'Abdur Rehman'"
      ]
     },
     "execution_count": 135,
     "metadata": {},
     "output_type": "execute_result"
    }
   ],
   "source": [
    "class Employee:\n",
    "    \n",
    "    def __init__(self, first, last, pay):\n",
    "        self.first = first\n",
    "        self.last = last\n",
    "        self.pay = pay\n",
    "        self.email = first + '.' + last + \"@company.com\"\n",
    "    def fullname(self):\n",
    "        return ('{} {}'.format(self.first, self.last))\n",
    "        \n",
    "        \n",
    "emp_1= Employee('Abdur', 'Rehman', 50000)\n",
    "emp_2= Employee('Test', 'User', 60000)\n",
    "\n",
    "emp_1.fullname()\n",
    "Employee.fullname(emp_1)\n",
    "# print(emp_2.fullname())\n"
   ]
  },
  {
   "cell_type": "markdown",
   "id": "1074db81",
   "metadata": {},
   "source": [
    "# OOP 2nd___till almost at 5min's"
   ]
  },
  {
   "cell_type": "code",
   "execution_count": 149,
   "id": "a6c6ff69",
   "metadata": {},
   "outputs": [
    {
     "name": "stdout",
     "output_type": "stream",
     "text": [
      "50000\n",
      "52000\n"
     ]
    }
   ],
   "source": [
    "class Employee:\n",
    "    \n",
    "    raise_amount = 1.04\n",
    "    \n",
    "    def __init__(self, first, last, pay):\n",
    "        self.first  = first\n",
    "        self.last = last\n",
    "        self.pay = pay\n",
    "        self.email = first + '.' + last +'@company.com'\n",
    "        \n",
    "    def fullname(self):\n",
    "        return '{} {}'.format(self.first, self.last)\n",
    "\n",
    "    def apply_raise(self):\n",
    "        self.pay = int(self.pay * Employee.raise_amount)\n",
    "    \n",
    "emp_1 = Employee('Abdur', 'Rehman', 50000)\n",
    "emp_2 = Employee('test', 'user', 60000)\n",
    "\n",
    "\n",
    "\n",
    "print(emp_1.pay)\n",
    "emp_1.apply_raise()\n",
    "print(emp_1.pay)\n",
    "\n",
    "\n",
    "# emp_1.raise_amount\n",
    "# Employee.raise_amount\n",
    "\n"
   ]
  },
  {
   "cell_type": "code",
   "execution_count": null,
   "id": "91468402",
   "metadata": {},
   "outputs": [],
   "source": []
  },
  {
   "cell_type": "code",
   "execution_count": null,
   "id": "d4babb09",
   "metadata": {},
   "outputs": [],
   "source": []
  },
  {
   "cell_type": "code",
   "execution_count": null,
   "id": "0fb0388d",
   "metadata": {},
   "outputs": [],
   "source": []
  },
  {
   "cell_type": "code",
   "execution_count": null,
   "id": "9a840a79",
   "metadata": {},
   "outputs": [],
   "source": []
  },
  {
   "cell_type": "code",
   "execution_count": null,
   "id": "d417a54b",
   "metadata": {},
   "outputs": [],
   "source": []
  },
  {
   "cell_type": "code",
   "execution_count": null,
   "id": "6f523dae",
   "metadata": {},
   "outputs": [],
   "source": []
  },
  {
   "cell_type": "code",
   "execution_count": null,
   "id": "1f7ada3d",
   "metadata": {},
   "outputs": [],
   "source": []
  },
  {
   "cell_type": "code",
   "execution_count": null,
   "id": "ba5ba065",
   "metadata": {},
   "outputs": [],
   "source": []
  },
  {
   "cell_type": "code",
   "execution_count": null,
   "id": "9ed105e4",
   "metadata": {},
   "outputs": [],
   "source": []
  },
  {
   "cell_type": "code",
   "execution_count": null,
   "id": "ae90e79b",
   "metadata": {},
   "outputs": [],
   "source": []
  },
  {
   "cell_type": "code",
   "execution_count": null,
   "id": "d3e42d88",
   "metadata": {},
   "outputs": [],
   "source": []
  },
  {
   "cell_type": "code",
   "execution_count": null,
   "id": "e8482fe7",
   "metadata": {},
   "outputs": [],
   "source": []
  },
  {
   "cell_type": "code",
   "execution_count": null,
   "id": "fa307909",
   "metadata": {},
   "outputs": [],
   "source": []
  },
  {
   "cell_type": "code",
   "execution_count": null,
   "id": "474736c7",
   "metadata": {},
   "outputs": [],
   "source": []
  },
  {
   "cell_type": "markdown",
   "id": "0b66329b",
   "metadata": {},
   "source": [
    "# OOP 6th"
   ]
  },
  {
   "cell_type": "code",
   "execution_count": 99,
   "id": "505c5e06",
   "metadata": {},
   "outputs": [],
   "source": [
    "class Employee:\n",
    "    def __init__(self,first,last):\n",
    "        self.first=first\n",
    "        self.last=last\n",
    "    @property     \n",
    "    def email(self):\n",
    "        return '{}.{}@gmail.com'.format(self.first, self.last)\n",
    "    @property\n",
    "    def fullname(self):\n",
    "        return '{} {}'.format(self.first, self.last)\n",
    "    @fullname.setter\n",
    "    def fullname(self, name):\n",
    "        first, last=name.split(' ')\n",
    "        self.first=first\n",
    "        self.last=last\n",
    "    @fullname.deleter\n",
    "    def fullname(self):\n",
    "        print(\"Delete name!\")\n",
    "        self.first=None\n",
    "        self.last=None\n",
    "        "
   ]
  },
  {
   "cell_type": "code",
   "execution_count": 100,
   "id": "5e32bd76",
   "metadata": {},
   "outputs": [],
   "source": [
    "emp_1=Employee('Abdur','Rehman')"
   ]
  },
  {
   "cell_type": "code",
   "execution_count": 72,
   "id": "df40ecfd",
   "metadata": {},
   "outputs": [
    {
     "name": "stdout",
     "output_type": "stream",
     "text": [
      "Abdur\n"
     ]
    }
   ],
   "source": [
    "print(emp_1.first)"
   ]
  },
  {
   "cell_type": "code",
   "execution_count": 103,
   "id": "4e40ebc1",
   "metadata": {},
   "outputs": [
    {
     "name": "stdout",
     "output_type": "stream",
     "text": [
      "None None\n"
     ]
    }
   ],
   "source": [
    "print(emp_1.fullname)"
   ]
  },
  {
   "cell_type": "code",
   "execution_count": 74,
   "id": "7c8fea91",
   "metadata": {},
   "outputs": [
    {
     "name": "stdout",
     "output_type": "stream",
     "text": [
      "Abdur.Rehman@gmail.com\n"
     ]
    }
   ],
   "source": [
    "print(emp_1.email)"
   ]
  },
  {
   "cell_type": "code",
   "execution_count": 75,
   "id": "7e05d9ee",
   "metadata": {},
   "outputs": [],
   "source": [
    "emp_1.first='me'"
   ]
  },
  {
   "cell_type": "code",
   "execution_count": 93,
   "id": "295057f9",
   "metadata": {},
   "outputs": [],
   "source": [
    "emp_1.fullname='abdur rehman'"
   ]
  },
  {
   "cell_type": "code",
   "execution_count": 89,
   "id": "0b86ca84",
   "metadata": {},
   "outputs": [
    {
     "data": {
      "text/plain": [
       "'abdur rehman'"
      ]
     },
     "execution_count": 89,
     "metadata": {},
     "output_type": "execute_result"
    }
   ],
   "source": [
    "emp_1.first"
   ]
  },
  {
   "cell_type": "code",
   "execution_count": 94,
   "id": "776f3d4a",
   "metadata": {},
   "outputs": [
    {
     "data": {
      "text/plain": [
       "'abdur rehman'"
      ]
     },
     "execution_count": 94,
     "metadata": {},
     "output_type": "execute_result"
    }
   ],
   "source": [
    "emp_1.fullname"
   ]
  },
  {
   "cell_type": "code",
   "execution_count": 102,
   "id": "3dfc2d22",
   "metadata": {},
   "outputs": [
    {
     "name": "stdout",
     "output_type": "stream",
     "text": [
      "Delete name!\n"
     ]
    }
   ],
   "source": [
    "del emp_1.fullname"
   ]
  },
  {
   "cell_type": "code",
   "execution_count": 134,
   "id": "0b0121ad",
   "metadata": {},
   "outputs": [
    {
     "data": {
      "text/plain": [
       "'Abdur Rehman'"
      ]
     },
     "execution_count": 134,
     "metadata": {},
     "output_type": "execute_result"
    }
   ],
   "source": []
  },
  {
   "cell_type": "code",
   "execution_count": null,
   "id": "dee07502",
   "metadata": {},
   "outputs": [],
   "source": []
  },
  {
   "cell_type": "code",
   "execution_count": null,
   "id": "7d442174",
   "metadata": {},
   "outputs": [],
   "source": []
  }
 ],
 "metadata": {
  "kernelspec": {
   "display_name": "Python 3 (ipykernel)",
   "language": "python",
   "name": "python3"
  },
  "language_info": {
   "codemirror_mode": {
    "name": "ipython",
    "version": 3
   },
   "file_extension": ".py",
   "mimetype": "text/x-python",
   "name": "python",
   "nbconvert_exporter": "python",
   "pygments_lexer": "ipython3",
   "version": "3.9.2"
  }
 },
 "nbformat": 4,
 "nbformat_minor": 5
}
