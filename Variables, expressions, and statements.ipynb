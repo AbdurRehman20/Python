{
 "cells": [
  {
   "cell_type": "markdown",
   "id": "748fca0a",
   "metadata": {},
   "source": [
    "# Variables, expressions, and statements"
   ]
  },
  {
   "cell_type": "markdown",
   "id": "7e2187c3",
   "metadata": {},
   "source": [
    "# Q1"
   ]
  },
  {
   "cell_type": "code",
   "execution_count": 7,
   "id": "59b5a807",
   "metadata": {},
   "outputs": [
    {
     "name": "stdout",
     "output_type": "stream",
     "text": [
      "Enter Your Name:asdf\n"
     ]
    },
    {
     "ename": "NameError",
     "evalue": "name 'UserName' is not defined",
     "output_type": "error",
     "traceback": [
      "\u001b[1;31m---------------------------------------------------------------------------\u001b[0m",
      "\u001b[1;31mNameError\u001b[0m                                 Traceback (most recent call last)",
      "\u001b[1;32m~\\AppData\\Local\\Temp/ipykernel_6856/4260190863.py\u001b[0m in \u001b[0;36m<module>\u001b[1;34m\u001b[0m\n\u001b[0;32m      1\u001b[0m \u001b[1;31m# Getting user name and then printing.\u001b[0m\u001b[1;33m\u001b[0m\u001b[1;33m\u001b[0m\u001b[0m\n\u001b[0;32m      2\u001b[0m \u001b[0mUser_Name\u001b[0m\u001b[1;33m=\u001b[0m\u001b[0minput\u001b[0m\u001b[1;33m(\u001b[0m\u001b[1;34m\"Enter Your Name:\"\u001b[0m\u001b[1;33m)\u001b[0m\u001b[1;33m\u001b[0m\u001b[1;33m\u001b[0m\u001b[0m\n\u001b[1;32m----> 3\u001b[1;33m \u001b[0mprint\u001b[0m\u001b[1;33m(\u001b[0m\u001b[1;34m'Hello'\u001b[0m\u001b[1;33m,\u001b[0m\u001b[0mUserName\u001b[0m\u001b[1;33m+\u001b[0m\u001b[1;34m\"!\"\u001b[0m\u001b[1;33m)\u001b[0m\u001b[1;33m\u001b[0m\u001b[1;33m\u001b[0m\u001b[0m\n\u001b[0m",
      "\u001b[1;31mNameError\u001b[0m: name 'UserName' is not defined"
     ]
    }
   ],
   "source": [
    "# Getting user name and then printing.\n",
    "User_Name=input(\"Enter Your Name:\")\n",
    "print('Hello',UserName+\"!\")"
   ]
  },
  {
   "cell_type": "markdown",
   "id": "aa952cd0",
   "metadata": {},
   "source": [
    "# Q2"
   ]
  },
  {
   "cell_type": "code",
   "execution_count": null,
   "id": "2d1a1b57",
   "metadata": {},
   "outputs": [],
   "source": [
    "# Computing gross pay for hours and rate per hours.\n",
    "Hours=input(\"Enter Hours: \")\n",
    "Rate=input(\"Enter Rate: \")\n",
    "Gross_Pay=float(Hours)*float(Rate)\n",
    "print(\"Pay :\",Gross_Pay) "
   ]
  },
  {
   "cell_type": "markdown",
   "id": "3daed142",
   "metadata": {},
   "source": [
    "# Q3"
   ]
  },
  {
   "cell_type": "code",
   "execution_count": null,
   "id": "febeba7e",
   "metadata": {},
   "outputs": [],
   "source": [
    "width = 17"
   ]
  },
  {
   "cell_type": "code",
   "execution_count": null,
   "id": "b6236c1c",
   "metadata": {},
   "outputs": [],
   "source": [
    "width//2"
   ]
  },
  {
   "cell_type": "code",
   "execution_count": null,
   "id": "740c287b",
   "metadata": {},
   "outputs": [],
   "source": [
    "width/2.0"
   ]
  },
  {
   "cell_type": "code",
   "execution_count": null,
   "id": "e1b86de4",
   "metadata": {},
   "outputs": [],
   "source": [
    "height = 12.0\n"
   ]
  },
  {
   "cell_type": "code",
   "execution_count": null,
   "id": "019c126c",
   "metadata": {},
   "outputs": [],
   "source": [
    "height/3"
   ]
  },
  {
   "cell_type": "code",
   "execution_count": null,
   "id": "70ec7c6c",
   "metadata": {},
   "outputs": [],
   "source": [
    "1+2*5"
   ]
  },
  {
   "cell_type": "markdown",
   "id": "81d9671a",
   "metadata": {},
   "source": [
    "# Q4"
   ]
  },
  {
   "cell_type": "code",
   "execution_count": null,
   "id": "ab589678",
   "metadata": {},
   "outputs": [],
   "source": [
    "#Celsius to fahrenheit conversion.\n",
    "celsius = float (input(\"temp. in celsius:\"))\n",
    "fahrenheit = (celsius*9.0/5.0)+32.0\n",
    "print (\"temp. in fahrenheit =\",fahrenheit)"
   ]
  },
  {
   "cell_type": "markdown",
   "id": "a4a14aa8",
   "metadata": {},
   "source": [
    "# Q5"
   ]
  },
  {
   "cell_type": "code",
   "execution_count": null,
   "id": "2832c58d",
   "metadata": {},
   "outputs": [],
   "source": [
    "# Checking a number is perfect square or not.\n",
    "import math \n",
    "number = int(input(\"enter any number\"))\n",
    "root =  math.sqrt (number)\n",
    "if int (root + 0.5) ** 2 == number:\n",
    "  print (number,\"number is perfect square\")\n",
    "else:\n",
    "  print (number,\"number is not perfect square\")\n"
   ]
  },
  {
   "cell_type": "markdown",
   "id": "5f7fb707",
   "metadata": {},
   "source": [
    "# Q6"
   ]
  },
  {
   "cell_type": "code",
   "execution_count": null,
   "id": "eeaf127c",
   "metadata": {},
   "outputs": [],
   "source": [
    "# Calculating simple interest.\n",
    "p = int(\"50\")\n",
    "t = int(\"60\")\n",
    "r = int(\"70\")\n",
    "x = int((p*t*r)/100)\n",
    "print(\"simple interest:\",x)"
   ]
  },
  {
   "cell_type": "markdown",
   "id": "6325d116",
   "metadata": {},
   "source": [
    "# Q7"
   ]
  },
  {
   "cell_type": "code",
   "execution_count": null,
   "id": "d7f56cc1",
   "metadata": {},
   "outputs": [],
   "source": [
    "# Q7\n",
    "a=complex(2,3)\n",
    "a\n",
    "b=complex(33,3)\n",
    "b\n",
    "sum=a+b\n",
    "sum\n"
   ]
  },
  {
   "cell_type": "markdown",
   "id": "3b88bda9",
   "metadata": {},
   "source": [
    "# Q8"
   ]
  },
  {
   "cell_type": "code",
   "execution_count": null,
   "id": "9340b57f",
   "metadata": {},
   "outputs": [],
   "source": [
    "# Converting a string input to upper case.\n",
    "a=\"enter string\"\n",
    "a=input(\"enter string:\")\n",
    "a.upper()"
   ]
  },
  {
   "cell_type": "markdown",
   "id": "b03b88b8",
   "metadata": {},
   "source": [
    "# Strings"
   ]
  },
  {
   "cell_type": "markdown",
   "id": "0f718d3a",
   "metadata": {},
   "source": [
    "# Q1"
   ]
  },
  {
   "cell_type": "code",
   "execution_count": 4,
   "id": "13f1b530",
   "metadata": {},
   "outputs": [
    {
     "name": "stdout",
     "output_type": "stream",
     "text": [
      "0.8475\n"
     ]
    }
   ],
   "source": [
    "#\n",
    "string = 'X-DSPAM-Confidence: 0.8475'\n",
    "variable = string.find(':')                  \n",
    "number = string[variable + 1:]                \n",
    "target = float(number)                  \n",
    "print(target)"
   ]
  },
  {
   "cell_type": "markdown",
   "id": "f24b1fbf",
   "metadata": {},
   "source": [
    "# Q2"
   ]
  },
  {
   "cell_type": "code",
   "execution_count": 2,
   "id": "ed327619",
   "metadata": {},
   "outputs": [
    {
     "ename": "SyntaxError",
     "evalue": "invalid character '“' (U+201C) (Temp/ipykernel_6856/2521467939.py, line 1)",
     "output_type": "error",
     "traceback": [
      "\u001b[1;36m  File \u001b[1;32m\"C:\\Users\\Rajpu\\AppData\\Local\\Temp/ipykernel_6856/2521467939.py\"\u001b[1;36m, line \u001b[1;32m1\u001b[0m\n\u001b[1;33m    my_str = “Welcome to the Course on Data Science.”\u001b[0m\n\u001b[1;37m             ^\u001b[0m\n\u001b[1;31mSyntaxError\u001b[0m\u001b[1;31m:\u001b[0m invalid character '“' (U+201C)\n"
     ]
    }
   ],
   "source": [
    "my_str = “Welcome to the Course on Data Science.”\n"
   ]
  },
  {
   "cell_type": "code",
   "execution_count": 3,
   "id": "591e479a",
   "metadata": {},
   "outputs": [
    {
     "ename": "NameError",
     "evalue": "name 'my_str' is not defined",
     "output_type": "error",
     "traceback": [
      "\u001b[1;31m---------------------------------------------------------------------------\u001b[0m",
      "\u001b[1;31mNameError\u001b[0m                                 Traceback (most recent call last)",
      "\u001b[1;32m~\\AppData\\Local\\Temp/ipykernel_6856/2419616724.py\u001b[0m in \u001b[0;36m<module>\u001b[1;34m\u001b[0m\n\u001b[1;32m----> 1\u001b[1;33m \u001b[0mmy_str\u001b[0m\u001b[1;33m.\u001b[0m\u001b[0msplit\u001b[0m\u001b[1;33m(\u001b[0m\u001b[1;33m)\u001b[0m\u001b[1;33m\u001b[0m\u001b[1;33m\u001b[0m\u001b[0m\n\u001b[0m",
      "\u001b[1;31mNameError\u001b[0m: name 'my_str' is not defined"
     ]
    }
   ],
   "source": [
    "my_str.split()"
   ]
  },
  {
   "cell_type": "markdown",
   "id": "04008fb2",
   "metadata": {},
   "source": [
    "# Q4,3"
   ]
  },
  {
   "cell_type": "code",
   "execution_count": null,
   "id": "8d5135d1",
   "metadata": {},
   "outputs": [],
   "source": [
    "a=(\"abdur\")\n",
    "a.count(\"a\")"
   ]
  },
  {
   "cell_type": "markdown",
   "id": "b43385d3",
   "metadata": {},
   "source": [
    "# Q5"
   ]
  },
  {
   "cell_type": "code",
   "execution_count": null,
   "id": "0b2d2801",
   "metadata": {},
   "outputs": [],
   "source": [
    "a=(\"I am a student\")\n",
    "print(a)\n"
   ]
  },
  {
   "cell_type": "code",
   "execution_count": null,
   "id": "3bb4d68c",
   "metadata": {},
   "outputs": [],
   "source": [
    "a[:2] + a[-2:]"
   ]
  },
  {
   "cell_type": "markdown",
   "id": "b2d659b4",
   "metadata": {},
   "source": [
    "# Lists"
   ]
  },
  {
   "cell_type": "markdown",
   "id": "c6cb5ae1",
   "metadata": {},
   "source": [
    "# Q1"
   ]
  },
  {
   "cell_type": "code",
   "execution_count": null,
   "id": "9e44e8d9",
   "metadata": {},
   "outputs": [],
   "source": [
    "j=[1,43,6,54,34]"
   ]
  },
  {
   "cell_type": "code",
   "execution_count": null,
   "id": "34e11426",
   "metadata": {},
   "outputs": [],
   "source": [
    "j[1:4]"
   ]
  },
  {
   "cell_type": "code",
   "execution_count": null,
   "id": "9f47d3a4",
   "metadata": {},
   "outputs": [],
   "source": [
    "middle=[43, 6, 54]"
   ]
  },
  {
   "cell_type": "code",
   "execution_count": null,
   "id": "ecb09376",
   "metadata": {},
   "outputs": [],
   "source": [
    "print (middle)"
   ]
  },
  {
   "cell_type": "markdown",
   "id": "13b565b5",
   "metadata": {},
   "source": [
    "# Q2"
   ]
  },
  {
   "cell_type": "code",
   "execution_count": null,
   "id": "1cbf7644",
   "metadata": {},
   "outputs": [],
   "source": [
    "list_q2=[\"and\",\"in\",\"it\",\"some\",\"in\",\"it\",\"some\"]"
   ]
  },
  {
   "cell_type": "code",
   "execution_count": null,
   "id": "aa40171f",
   "metadata": {},
   "outputs": [],
   "source": [
    "set(list_q2)"
   ]
  },
  {
   "cell_type": "markdown",
   "id": "bd7d02ca",
   "metadata": {},
   "source": [
    "# Q3"
   ]
  },
  {
   "cell_type": "code",
   "execution_count": null,
   "id": "1fee8e53",
   "metadata": {},
   "outputs": [],
   "source": [
    "list_q3=[1,2,3]\n",
    "sum(l)"
   ]
  },
  {
   "cell_type": "markdown",
   "id": "7ea84188",
   "metadata": {},
   "source": [
    "# Q4"
   ]
  },
  {
   "cell_type": "code",
   "execution_count": null,
   "id": "b84d5b28",
   "metadata": {},
   "outputs": [],
   "source": [
    "list_q4=[2,1,3,4,5,6,6]"
   ]
  },
  {
   "cell_type": "code",
   "execution_count": null,
   "id": "af130a48",
   "metadata": {},
   "outputs": [],
   "source": [
    "list_q4[0:1]+list_q4[-1:]"
   ]
  },
  {
   "cell_type": "code",
   "execution_count": null,
   "id": "299e1366",
   "metadata": {},
   "outputs": [],
   "source": [
    "max(list_q4)"
   ]
  },
  {
   "cell_type": "code",
   "execution_count": null,
   "id": "9057e002",
   "metadata": {},
   "outputs": [],
   "source": [
    "min(list_q4)"
   ]
  },
  {
   "cell_type": "markdown",
   "id": "cc73f8c9",
   "metadata": {},
   "source": [
    "# Q5"
   ]
  },
  {
   "cell_type": "code",
   "execution_count": null,
   "id": "d30a4931",
   "metadata": {},
   "outputs": [],
   "source": [
    "list_q5=[1,2,3,4,5,5,6,6,7,7,8,87,5]"
   ]
  },
  {
   "cell_type": "code",
   "execution_count": null,
   "id": "950ae04b",
   "metadata": {},
   "outputs": [],
   "source": [
    "set(list_q5)"
   ]
  },
  {
   "cell_type": "markdown",
   "id": "84afde4c",
   "metadata": {},
   "source": [
    "# Q6 "
   ]
  },
  {
   "cell_type": "code",
   "execution_count": 11,
   "id": "fbbac93f",
   "metadata": {},
   "outputs": [],
   "source": [
    "a=[1,2,4,5,7,8,9]"
   ]
  },
  {
   "cell_type": "code",
   "execution_count": 10,
   "id": "969e9e88",
   "metadata": {},
   "outputs": [],
   "source": [
    "b=[6,4,6,4,6,3,2,1]"
   ]
  },
  {
   "cell_type": "code",
   "execution_count": 5,
   "id": "6561743a",
   "metadata": {},
   "outputs": [],
   "source": [
    "c=set(a)"
   ]
  },
  {
   "cell_type": "code",
   "execution_count": 12,
   "id": "03ae583b",
   "metadata": {},
   "outputs": [],
   "source": [
    "d=set(b)"
   ]
  },
  {
   "cell_type": "code",
   "execution_count": 13,
   "id": "738a9d57",
   "metadata": {},
   "outputs": [
    {
     "data": {
      "text/plain": [
       "{1, 2, 3, 4, 6}"
      ]
     },
     "execution_count": 13,
     "metadata": {},
     "output_type": "execute_result"
    }
   ],
   "source": [
    "c.intersection(d)"
   ]
  },
  {
   "cell_type": "markdown",
   "id": "118b60ae",
   "metadata": {},
   "source": [
    "# Q7"
   ]
  },
  {
   "cell_type": "code",
   "execution_count": 2,
   "id": "1f099d28",
   "metadata": {},
   "outputs": [],
   "source": [
    "a=[1,2,3,4,5,6,7,9]"
   ]
  },
  {
   "cell_type": "code",
   "execution_count": 14,
   "id": "c268f8b8",
   "metadata": {},
   "outputs": [
    {
     "data": {
      "text/plain": [
       "'[1, 2, 4, 5, 7, 8, 9]'"
      ]
     },
     "execution_count": 14,
     "metadata": {},
     "output_type": "execute_result"
    }
   ],
   "source": [
    "str(a)"
   ]
  },
  {
   "cell_type": "markdown",
   "id": "7dbc1f42",
   "metadata": {},
   "source": [
    "# Q8"
   ]
  },
  {
   "cell_type": "code",
   "execution_count": 15,
   "id": "b7348808",
   "metadata": {},
   "outputs": [],
   "source": [
    "a=[4,33,5,6,3,2,2]"
   ]
  },
  {
   "cell_type": "code",
   "execution_count": 19,
   "id": "8095d777",
   "metadata": {},
   "outputs": [],
   "source": [
    "b=[4,33,5,6,3,2,2]"
   ]
  },
  {
   "cell_type": "code",
   "execution_count": 20,
   "id": "26081946",
   "metadata": {},
   "outputs": [
    {
     "data": {
      "text/plain": [
       "True"
      ]
     },
     "execution_count": 20,
     "metadata": {},
     "output_type": "execute_result"
    }
   ],
   "source": [
    "a==b"
   ]
  },
  {
   "cell_type": "markdown",
   "id": "431fd49e",
   "metadata": {},
   "source": [
    "# Q9"
   ]
  },
  {
   "cell_type": "code",
   "execution_count": 21,
   "id": "3f34de39",
   "metadata": {},
   "outputs": [],
   "source": [
    "a=[2,4,6,3,2,5]"
   ]
  },
  {
   "cell_type": "code",
   "execution_count": 22,
   "id": "67b6b174",
   "metadata": {},
   "outputs": [
    {
     "data": {
      "text/plain": [
       "{2, 3, 4, 5, 6}"
      ]
     },
     "execution_count": 22,
     "metadata": {},
     "output_type": "execute_result"
    }
   ],
   "source": [
    "set(a)"
   ]
  },
  {
   "cell_type": "markdown",
   "id": "4d752b36",
   "metadata": {},
   "source": [
    "# Q10"
   ]
  },
  {
   "cell_type": "code",
   "execution_count": 30,
   "id": "597a7da5",
   "metadata": {},
   "outputs": [],
   "source": [
    "x=[4,3,3,5,5]"
   ]
  },
  {
   "cell_type": "code",
   "execution_count": 31,
   "id": "85ebc9a6",
   "metadata": {},
   "outputs": [
    {
     "data": {
      "text/plain": [
       "2"
      ]
     },
     "execution_count": 31,
     "metadata": {},
     "output_type": "execute_result"
    }
   ],
   "source": [
    "x.count(3)"
   ]
  },
  {
   "cell_type": "code",
   "execution_count": 32,
   "id": "73098497",
   "metadata": {},
   "outputs": [
    {
     "data": {
      "text/plain": [
       "2"
      ]
     },
     "execution_count": 32,
     "metadata": {},
     "output_type": "execute_result"
    }
   ],
   "source": [
    "x.count(5)"
   ]
  },
  {
   "cell_type": "code",
   "execution_count": 33,
   "id": "eadad9c4",
   "metadata": {},
   "outputs": [
    {
     "data": {
      "text/plain": [
       "1"
      ]
     },
     "execution_count": 33,
     "metadata": {},
     "output_type": "execute_result"
    }
   ],
   "source": [
    "x.count(4)"
   ]
  },
  {
   "cell_type": "markdown",
   "id": "7e0ab5c3",
   "metadata": {},
   "source": [
    "# Q11"
   ]
  },
  {
   "cell_type": "code",
   "execution_count": 60,
   "id": "dc45aeb1",
   "metadata": {},
   "outputs": [],
   "source": [
    "lst_q11=[[1,4,5,7,8],[4,5,5,3,5],[5,3,7,9]]"
   ]
  },
  {
   "cell_type": "code",
   "execution_count": 61,
   "id": "80c94e3e",
   "metadata": {},
   "outputs": [
    {
     "name": "stdout",
     "output_type": "stream",
     "text": [
      "[1, 4, 5, 7, 8]\n"
     ]
    }
   ],
   "source": [
    "print(max(lst_q11,key=sum))"
   ]
  },
  {
   "cell_type": "markdown",
   "id": "34dacee6",
   "metadata": {},
   "source": [
    "# Q12"
   ]
  },
  {
   "cell_type": "code",
   "execution_count": 81,
   "id": "6b192984",
   "metadata": {},
   "outputs": [],
   "source": [
    "lst_q12=[\"my\",\"name\",\"the\",\"how\"]"
   ]
  },
  {
   "cell_type": "code",
   "execution_count": 91,
   "id": "e2a90fac",
   "metadata": {},
   "outputs": [],
   "source": [
    "lst_q12.insert(0,\"dgf\")"
   ]
  },
  {
   "cell_type": "code",
   "execution_count": 92,
   "id": "820ca133",
   "metadata": {},
   "outputs": [
    {
     "name": "stdout",
     "output_type": "stream",
     "text": [
      "['dgf', 'my', 'dgf', 'name', 'the', 'how']\n"
     ]
    }
   ],
   "source": [
    "print(lst_q12)"
   ]
  },
  {
   "cell_type": "markdown",
   "id": "c1c2c55d",
   "metadata": {},
   "source": [
    "# Q13"
   ]
  },
  {
   "cell_type": "code",
   "execution_count": 16,
   "id": "df932d0c",
   "metadata": {},
   "outputs": [],
   "source": [
    "a='abc'"
   ]
  },
  {
   "cell_type": "code",
   "execution_count": 17,
   "id": "b1436b54",
   "metadata": {},
   "outputs": [],
   "source": [
    "b=list(a)"
   ]
  },
  {
   "cell_type": "code",
   "execution_count": 18,
   "id": "6ef1b512",
   "metadata": {},
   "outputs": [
    {
     "data": {
      "text/plain": [
       "['a', 'b', 'c']"
      ]
     },
     "execution_count": 18,
     "metadata": {},
     "output_type": "execute_result"
    }
   ],
   "source": [
    "b"
   ]
  },
  {
   "cell_type": "markdown",
   "id": "d0d30bba",
   "metadata": {},
   "source": [
    "# Q14"
   ]
  },
  {
   "cell_type": "code",
   "execution_count": 33,
   "id": "e92efa5f",
   "metadata": {},
   "outputs": [],
   "source": [
    "a=['w','w','w']"
   ]
  },
  {
   "cell_type": "code",
   "execution_count": 43,
   "id": "38938596",
   "metadata": {},
   "outputs": [],
   "source": [
    "b=['q','q','q']"
   ]
  },
  {
   "cell_type": "code",
   "execution_count": 44,
   "id": "79cf6965",
   "metadata": {},
   "outputs": [],
   "source": [
    "c=[]"
   ]
  },
  {
   "cell_type": "code",
   "execution_count": 45,
   "id": "c6213265",
   "metadata": {},
   "outputs": [],
   "source": [
    "for i in range(0,len(a)):\n",
    "               c.append(a[i] + b[i])"
   ]
  },
  {
   "cell_type": "code",
   "execution_count": 46,
   "id": "1ee2b109",
   "metadata": {},
   "outputs": [
    {
     "data": {
      "text/plain": [
       "['wq', 'wq', 'wq']"
      ]
     },
     "execution_count": 46,
     "metadata": {},
     "output_type": "execute_result"
    }
   ],
   "source": [
    "c"
   ]
  },
  {
   "cell_type": "markdown",
   "id": "75cc9c45",
   "metadata": {},
   "source": [
    "# Q15"
   ]
  },
  {
   "cell_type": "code",
   "execution_count": 56,
   "id": "e9b217d5",
   "metadata": {},
   "outputs": [],
   "source": [
    "a=[1,3,5,6,7]"
   ]
  },
  {
   "cell_type": "code",
   "execution_count": 57,
   "id": "e74c848b",
   "metadata": {},
   "outputs": [],
   "source": [
    "n=2"
   ]
  },
  {
   "cell_type": "code",
   "execution_count": 60,
   "id": "5751bf04",
   "metadata": {},
   "outputs": [],
   "source": [
    "f=[a[x:x+2] for x in range(0,len(a),n)]"
   ]
  },
  {
   "cell_type": "code",
   "execution_count": 61,
   "id": "a24f107f",
   "metadata": {},
   "outputs": [
    {
     "data": {
      "text/plain": [
       "[[1, 3], [5, 6], [7]]"
      ]
     },
     "execution_count": 61,
     "metadata": {},
     "output_type": "execute_result"
    }
   ],
   "source": [
    "f"
   ]
  },
  {
   "cell_type": "markdown",
   "id": "a9eeded3",
   "metadata": {},
   "source": [
    "# Q16"
   ]
  },
  {
   "cell_type": "code",
   "execution_count": 12,
   "id": "6d57582a",
   "metadata": {},
   "outputs": [],
   "source": [
    "a=[3,6,7]"
   ]
  },
  {
   "cell_type": "code",
   "execution_count": 13,
   "id": "450d1741",
   "metadata": {},
   "outputs": [
    {
     "name": "stdout",
     "output_type": "stream",
     "text": [
      "367"
     ]
    }
   ],
   "source": [
    "for z in a:\n",
    "    print(z, end=\"\")"
   ]
  },
  {
   "cell_type": "markdown",
   "id": "e2c59976",
   "metadata": {},
   "source": [
    "# Tuples"
   ]
  },
  {
   "cell_type": "markdown",
   "id": "3c7c3381",
   "metadata": {},
   "source": [
    "# Q1"
   ]
  },
  {
   "cell_type": "code",
   "execution_count": 12,
   "id": "ee93dcfa",
   "metadata": {},
   "outputs": [],
   "source": [
    "a=(1,2,3)"
   ]
  },
  {
   "cell_type": "code",
   "execution_count": 13,
   "id": "3473dd2e",
   "metadata": {},
   "outputs": [],
   "source": [
    "b=a[0:1]"
   ]
  },
  {
   "cell_type": "code",
   "execution_count": 14,
   "id": "40e5ba8a",
   "metadata": {},
   "outputs": [],
   "source": [
    "c=a[1:2]"
   ]
  },
  {
   "cell_type": "code",
   "execution_count": 15,
   "id": "18562340",
   "metadata": {},
   "outputs": [],
   "source": [
    "d=a[2:3]"
   ]
  },
  {
   "cell_type": "code",
   "execution_count": 20,
   "id": "c96caf27",
   "metadata": {},
   "outputs": [],
   "source": [
    "t=tuple((b,c,d))"
   ]
  },
  {
   "cell_type": "code",
   "execution_count": 21,
   "id": "d48984a0",
   "metadata": {},
   "outputs": [
    {
     "data": {
      "text/plain": [
       "((1,), (2,), (3,))"
      ]
     },
     "execution_count": 21,
     "metadata": {},
     "output_type": "execute_result"
    }
   ],
   "source": [
    "t"
   ]
  },
  {
   "cell_type": "markdown",
   "id": "63a26e46",
   "metadata": {},
   "source": [
    "# Q2"
   ]
  },
  {
   "cell_type": "code",
   "execution_count": 34,
   "id": "34e09ece",
   "metadata": {},
   "outputs": [
    {
     "name": "stdout",
     "output_type": "stream",
     "text": [
      "5\n"
     ]
    }
   ],
   "source": [
    "a=[1,2,3,4,5,(1,)]\n",
    "ctr=0                                              #var ,initialize at first and then counting\n",
    "for i in a:\n",
    "    if isinstance(i,tuple):\n",
    "        break\n",
    "    ctr +=1\n",
    "print(ctr)"
   ]
  },
  {
   "cell_type": "markdown",
   "id": "28e0f943",
   "metadata": {},
   "source": [
    "# Q3"
   ]
  },
  {
   "cell_type": "code",
   "execution_count": 41,
   "id": "1522cb58",
   "metadata": {},
   "outputs": [
    {
     "name": "stdout",
     "output_type": "stream",
     "text": [
      "(3, 5, 7, 9, 11)\n"
     ]
    }
   ],
   "source": [
    "a=(1,2,3,4,5)\n",
    "b=(2,3,4,5,6)\n",
    "# when the process of mappng held the tuple bracket breaks down the casefold\n",
    "# for that purpose we use lambda\n",
    "my_tuple=tuple(map(lambda i,j:i+j,a,b))\n",
    "print(my_tuple)"
   ]
  },
  {
   "cell_type": "code",
   "execution_count": 105,
   "id": "7d803228",
   "metadata": {},
   "outputs": [
    {
     "name": "stdout",
     "output_type": "stream",
     "text": [
      "(3, 5, 7, 9, 11)\n"
     ]
    }
   ],
   "source": [
    "a=(1,2,3,4,5)\n",
    "b=(2,3,4,5,6)\n",
    "c=str(a)\n",
    "d=str(b)\n",
    "tuple2 = tuple(map(sum,zip(a,b)))\n",
    "print(tuple2)\n",
    "\n"
   ]
  },
  {
   "cell_type": "code",
   "execution_count": null,
   "id": "d30e0bb3",
   "metadata": {},
   "outputs": [],
   "source": [
    "z=tuple(map(sum,zip(c,d)))\n",
    "print(z)"
   ]
  },
  {
   "cell_type": "markdown",
   "id": "0613d151",
   "metadata": {},
   "source": [
    "# Q4"
   ]
  },
  {
   "cell_type": "code",
   "execution_count": 95,
   "id": "78d3f179",
   "metadata": {},
   "outputs": [
    {
     "data": {
      "text/plain": [
       "(2, 4, 6, 8, 10)"
      ]
     },
     "execution_count": 95,
     "metadata": {},
     "output_type": "execute_result"
    }
   ],
   "source": [
    "a=(1,2,3,4,5)\n",
    "b=2\n",
    "yuple2 = tuple(b*i for i in a )\n",
    "yuple2\n"
   ]
  },
  {
   "cell_type": "code",
   "execution_count": 93,
   "id": "74fe7f03",
   "metadata": {},
   "outputs": [
    {
     "data": {
      "text/plain": [
       "10"
      ]
     },
     "execution_count": 93,
     "metadata": {},
     "output_type": "execute_result"
    }
   ],
   "source": [
    "c"
   ]
  },
  {
   "cell_type": "code",
   "execution_count": 45,
   "id": "ccb6d432",
   "metadata": {},
   "outputs": [
    {
     "data": {
      "text/plain": [
       "10"
      ]
     },
     "execution_count": 45,
     "metadata": {},
     "output_type": "execute_result"
    }
   ],
   "source": [
    "b"
   ]
  },
  {
   "cell_type": "markdown",
   "id": "7f932a9b",
   "metadata": {},
   "source": [
    "# Sets"
   ]
  },
  {
   "cell_type": "markdown",
   "id": "9748697c",
   "metadata": {},
   "source": [
    "# Q1"
   ]
  },
  {
   "cell_type": "code",
   "execution_count": null,
   "id": "f91911fa",
   "metadata": {},
   "outputs": [],
   "source": [
    "a={1,2,3}"
   ]
  },
  {
   "cell_type": "code",
   "execution_count": 87,
   "id": "2b8fbea3",
   "metadata": {},
   "outputs": [
    {
     "name": "stdout",
     "output_type": "stream",
     "text": [
      "True\n"
     ]
    }
   ],
   "source": [
    "print(3 in a)"
   ]
  },
  {
   "cell_type": "markdown",
   "id": "0339c020",
   "metadata": {},
   "source": [
    "# Q2"
   ]
  },
  {
   "cell_type": "code",
   "execution_count": 91,
   "id": "335f4ea5",
   "metadata": {},
   "outputs": [],
   "source": [
    "a={1,2,3,4,5,2,3}"
   ]
  },
  {
   "cell_type": "code",
   "execution_count": 94,
   "id": "ad411563",
   "metadata": {},
   "outputs": [
    {
     "data": {
      "text/plain": [
       "[1, 2, 3, 4, 5]"
      ]
     },
     "execution_count": 94,
     "metadata": {},
     "output_type": "execute_result"
    }
   ],
   "source": [
    "list(a)"
   ]
  },
  {
   "cell_type": "code",
   "execution_count": 95,
   "id": "c4ed71f8",
   "metadata": {},
   "outputs": [
    {
     "data": {
      "text/plain": [
       "{1, 2, 3, 4, 5}"
      ]
     },
     "execution_count": 95,
     "metadata": {},
     "output_type": "execute_result"
    }
   ],
   "source": [
    "set(a)"
   ]
  },
  {
   "cell_type": "markdown",
   "id": "51c94223",
   "metadata": {},
   "source": [
    "# Q3"
   ]
  },
  {
   "cell_type": "code",
   "execution_count": 57,
   "id": "c9f0ab2a",
   "metadata": {},
   "outputs": [
    {
     "name": "stdout",
     "output_type": "stream",
     "text": [
      "both have same ip addresses\n",
      "both have same ip addresses\n",
      "both have same ip addresses\n"
     ]
    }
   ],
   "source": [
    "a = ['192.168.0.1','192.168.0.2','192.168.0.3']\n",
    "b = ['192.168.0.3','192.168.0.2', '192.168.0.1']\n",
    "for i in a:\n",
    "    if i in b: \n",
    "      print (\"both have same ip addresses\")\n",
    "    else:\n",
    "      print (\"not same in both\")"
   ]
  },
  {
   "cell_type": "markdown",
   "id": "632917b3",
   "metadata": {},
   "source": [
    "# Dictionaries"
   ]
  },
  {
   "cell_type": "markdown",
   "id": "477807fd",
   "metadata": {},
   "source": [
    "# Q1"
   ]
  },
  {
   "cell_type": "code",
   "execution_count": 126,
   "id": "09f2d681",
   "metadata": {},
   "outputs": [
    {
     "data": {
      "text/plain": [
       "dict_keys([12111, 12311, 13454])"
      ]
     },
     "execution_count": 126,
     "metadata": {},
     "output_type": "execute_result"
    }
   ],
   "source": [
    "a={12111: 450, \n",
    "   12311: 432,\n",
    "   13454: 504}\n",
    "a.keys()\n"
   ]
  },
  {
   "cell_type": "code",
   "execution_count": 127,
   "id": "8ca74105",
   "metadata": {},
   "outputs": [
    {
     "data": {
      "text/plain": [
       "dict_values([450, 432, 504])"
      ]
     },
     "execution_count": 127,
     "metadata": {},
     "output_type": "execute_result"
    }
   ],
   "source": [
    "a.values()"
   ]
  },
  {
   "cell_type": "code",
   "execution_count": 129,
   "id": "8a39cb43",
   "metadata": {},
   "outputs": [
    {
     "data": {
      "text/plain": [
       "dict_items([(12111, 450), (12311, 432), (13454, 504)])"
      ]
     },
     "execution_count": 129,
     "metadata": {},
     "output_type": "execute_result"
    }
   ],
   "source": [
    "a.items()"
   ]
  },
  {
   "cell_type": "code",
   "execution_count": 130,
   "id": "d73a8274",
   "metadata": {},
   "outputs": [
    {
     "name": "stdout",
     "output_type": "stream",
     "text": [
      "450\n"
     ]
    }
   ],
   "source": [
    "print(a[12111])"
   ]
  },
  {
   "cell_type": "code",
   "execution_count": 131,
   "id": "8fb48e34",
   "metadata": {},
   "outputs": [
    {
     "name": "stdout",
     "output_type": "stream",
     "text": [
      "504\n"
     ]
    }
   ],
   "source": [
    "print(a[13454])"
   ]
  },
  {
   "cell_type": "markdown",
   "id": "594a7f60",
   "metadata": {},
   "source": [
    "# Q2"
   ]
  },
  {
   "cell_type": "code",
   "execution_count": 106,
   "id": "cd6843b9",
   "metadata": {},
   "outputs": [],
   "source": [
    "comm = { 'chair' : 10, 'table' : 22, 'sofa-set': 2, 'tv-unit': 0, 'fan': 10, \n",
    "        'table-lamp': 0, 'iron-box': 0, 'bed': 30 }"
   ]
  },
  {
   "cell_type": "code",
   "execution_count": 107,
   "id": "9a9baaba",
   "metadata": {},
   "outputs": [],
   "source": [
    "price = { 'chair': 2365, 'table': 37752, 'sofa-set': 23299, 'tv-unit': 120344, 'bed': 40226 }"
   ]
  },
  {
   "cell_type": "code",
   "execution_count": null,
   "id": "d76fe87e",
   "metadata": {},
   "outputs": [],
   "source": [
    "cash = 0\n",
    "\n",
    "while True:\n",
    "    entered_commodity = input(\"Plz Enter What You Need: \")\n",
    "    if entered_commodity == \"quit\": \n",
    "        print(\"Thank You For Shopping!\")\n",
    "        break\n",
    "    \n",
    "    quantity = int(input(\"Plz Enter The Quantity:   \"))\n",
    "    if entered_commodity in comm.keys():\n",
    "        print(\"Commoditiy Found\")\n",
    "        if comm[entered_commodity]>0 and quantity<=comm[entered_commodity]:\n",
    "            print(\"In-Stock & Available\")\n",
    "            cash = cash + (price[entered_commodity] * quantity)\n",
    "            print(\"Now Cash is: \", cash)\n",
    "            comm[entered_commodity] = comm[entered_commodity] - quantity\n",
    "            print(comm.items())\n",
    "\n",
    "        else:\n",
    "            print(\"Sorry, Out Of Stock OR the Quantity is More than The Available Stock.\")\n",
    "        \n",
    "    else:\n",
    "        print(\"Sorry, We Do Not Have What You Want.\")"
   ]
  }
 ],
 "metadata": {
  "kernelspec": {
   "display_name": "Python 3 (ipykernel)",
   "language": "python",
   "name": "python3"
  },
  "language_info": {
   "codemirror_mode": {
    "name": "ipython",
    "version": 3
   },
   "file_extension": ".py",
   "mimetype": "text/x-python",
   "name": "python",
   "nbconvert_exporter": "python",
   "pygments_lexer": "ipython3",
   "version": "3.9.2"
  }
 },
 "nbformat": 4,
 "nbformat_minor": 5
}
