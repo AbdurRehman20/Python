{
 "cells": [
  {
   "cell_type": "markdown",
   "id": "22076e8e",
   "metadata": {},
   "source": [
    "# 8th Video"
   ]
  },
  {
   "cell_type": "code",
   "execution_count": 9,
   "id": "44cc8ca9",
   "metadata": {},
   "outputs": [
    {
     "name": "stdout",
     "output_type": "stream",
     "text": [
      "None\n"
     ]
    }
   ],
   "source": [
    "# def hello_func():\n",
    "#     pass\n",
    "# print(hello_func())"
   ]
  },
  {
   "cell_type": "code",
   "execution_count": 11,
   "id": "3eb81da2",
   "metadata": {},
   "outputs": [],
   "source": [
    "# def hello_func():\n",
    "#     print('Hello Function!')\n",
    "# # hello_func()\n",
    "# # print('Hello Function!')\n",
    "# print('Hello Function!')\n",
    "# print('Hello Function!')\n",
    "# print('Hello Function!')"
   ]
  },
  {
   "cell_type": "code",
   "execution_count": 12,
   "id": "0f78651c",
   "metadata": {},
   "outputs": [],
   "source": [
    "# def hello_func():\n",
    "#     print('Hello Function!')\n",
    "# # hello_func()\n",
    "# print('Hello Function.')\n",
    "# print('Hello Function.')\n",
    "# print('Hello Function.')\n",
    "# print('Hello Function.')"
   ]
  },
  {
   "cell_type": "code",
   "execution_count": 14,
   "id": "b1c80e02",
   "metadata": {},
   "outputs": [],
   "source": [
    "# def hello_func():\n",
    "#     print('Hello Function!')\n",
    "# # hello_func()\n",
    "# hello_func()\n",
    "# hello_func()\n",
    "# hello_func()\n",
    "# hello_func()"
   ]
  },
  {
   "cell_type": "code",
   "execution_count": 17,
   "id": "f888bc0b",
   "metadata": {},
   "outputs": [],
   "source": [
    "# def hello_func():\n",
    "#     print('Hello Function.')\n",
    "# # hello_func()\n",
    "# hello_func()\n",
    "# hello_func()\n",
    "# hello_func()\n",
    "# hello_func()"
   ]
  },
  {
   "cell_type": "code",
   "execution_count": 19,
   "id": "09d3919c",
   "metadata": {},
   "outputs": [],
   "source": [
    "# keeping code Dry means (Dont Repeat Yourself)>>>>>DRY"
   ]
  },
  {
   "cell_type": "code",
   "execution_count": 40,
   "id": "4ce7f2be",
   "metadata": {},
   "outputs": [],
   "source": [
    "# def hello_func():\n",
    "#     return'Hello Function.'\n",
    "# hello_func()\n",
    "# hello_func()\n",
    "# hello_func()\n",
    "# hello_func()"
   ]
  },
  {
   "cell_type": "code",
   "execution_count": 41,
   "id": "2ff35b91",
   "metadata": {},
   "outputs": [],
   "source": [
    "#  def hello_func():\n",
    "#     return'Hello Function.'\n",
    "# print(len('Test'))"
   ]
  },
  {
   "cell_type": "code",
   "execution_count": 1,
   "id": "712d45e9",
   "metadata": {},
   "outputs": [],
   "source": [
    "#  def hello_func():\n",
    "#     return'Hello Function.'\n",
    "# print(hello_func().upper())"
   ]
  },
  {
   "cell_type": "code",
   "execution_count": 5,
   "id": "a90c5238",
   "metadata": {},
   "outputs": [],
   "source": [
    "#  def hello_func(greeting):\n",
    "#     return'{} Function.'.format(greeting)\n",
    "# print(hello_func('Hi'))"
   ]
  },
  {
   "cell_type": "code",
   "execution_count": 17,
   "id": "03f1ad80",
   "metadata": {},
   "outputs": [],
   "source": [
    "# def hello_func(greeting,name='You'):\n",
    "#      return '{}, {}'.format(greeting,name)\n",
    "# hello_func('Hi')"
   ]
  },
  {
   "cell_type": "code",
   "execution_count": 19,
   "id": "549d5838",
   "metadata": {},
   "outputs": [],
   "source": [
    "# def hello_func(greeting,name='You'):\n",
    "#      return '{}, {}'.format(greeting,name)\n",
    "# hello_func('Hi','Corey')"
   ]
  },
  {
   "cell_type": "code",
   "execution_count": 26,
   "id": "23d938ad",
   "metadata": {},
   "outputs": [],
   "source": [
    "# def hello_func(greeting,name='You'):\n",
    "#      return '{}, {}'.format(greeting,name)\n",
    "# hello_func('Hi',name='Corey')"
   ]
  },
  {
   "cell_type": "code",
   "execution_count": 28,
   "id": "fd556411",
   "metadata": {},
   "outputs": [
    {
     "name": "stdout",
     "output_type": "stream",
     "text": [
      "Hi, Corey\n"
     ]
    }
   ],
   "source": [
    "# def hello_func(greeting,name='You'):\n",
    "#      return '{}, {}'.format(greeting,name)\n",
    "# hello_func('Hi',name='Corey')"
   ]
  },
  {
   "cell_type": "code",
   "execution_count": 54,
   "id": "b80b6dd1",
   "metadata": {},
   "outputs": [],
   "source": [
    "# def hello_func(greeting,name='You'):\n",
    "#      return '{}, {}'.format(greeting,name)\n",
    "# print(hello_func('Hi',name='Corey'))\n",
    "\n",
    "\n",
    "\n",
    "# def student_info(*args, **kwargs):\n",
    "#     print(args)\n",
    "#     print(kwargs)\n",
    "    \n",
    "# student_info('Math', 'Art', name='John', age=22)"
   ]
  },
  {
   "cell_type": "code",
   "execution_count": 62,
   "id": "396111a6",
   "metadata": {},
   "outputs": [
    {
     "name": "stdout",
     "output_type": "stream",
     "text": [
      "(['Math', 'Art'], {'name': 'John', 'age': 22})\n",
      "{}\n"
     ]
    }
   ],
   "source": [
    "# def student_info(*args, **kwargs):\n",
    "#     print(args)\n",
    "#     print(kwargs)\n",
    "\n",
    "# courses = ['Math', 'Art']\n",
    "# info = {'name': 'John', 'age': 22}\n",
    "\n",
    "           \n",
    "# student_info(courses, info)\n",
    "           "
   ]
  },
  {
   "cell_type": "code",
   "execution_count": 63,
   "id": "36894a03",
   "metadata": {},
   "outputs": [
    {
     "name": "stdout",
     "output_type": "stream",
     "text": [
      "('Math', 'Art')\n",
      "{'name': 'John', 'age': 22}\n"
     ]
    }
   ],
   "source": [
    "# def student_info(*args, **kwargs):\n",
    "#     print(args)\n",
    "#     print(kwargs)\n",
    "\n",
    "# courses = ['Math', 'Art']\n",
    "# info = {'name': 'John', 'age': 22}\n",
    "\n",
    "           \n",
    "# student_info(*courses, **info)\n",
    "           "
   ]
  },
  {
   "cell_type": "code",
   "execution_count": 66,
   "id": "bc0f0e80",
   "metadata": {},
   "outputs": [],
   "source": [
    "#  month_days = [0, 31, 28, 31, 30, 31, 31, 30, 31, 30, 31]\n",
    "\n",
    "    \n",
    "# def is_leap(year):\n",
    "#     \"\"\"Return number of days in that month in that year.\"\"\"\n",
    "    \n",
    "#     return year % 4 == 0 and (year % 100 != 0 or year % 400 == 0)\n",
    "\n",
    "# def days_in_month(year,month):\n",
    "#     \"\"\"Return number of days in that month in that year.\"\"\"\n",
    "    \n",
    "#     if not 1 <= 12:\n",
    "#         return 'Invalid Month'\n",
    "    \n",
    "#     if minth ==2 and is_leap(year):\n",
    "#         return 29\n",
    "    \n",
    "#     return month_days[month]"
   ]
  },
  {
   "cell_type": "code",
   "execution_count": 68,
   "id": "2dfc40ba",
   "metadata": {},
   "outputs": [
    {
     "name": "stdout",
     "output_type": "stream",
     "text": [
      "False\n"
     ]
    }
   ],
   "source": [
    "#  month_days = [0, 31, 28, 31, 30, 31, 31, 30, 31, 30, 31]\n",
    "\n",
    "    \n",
    "# def is_leap(year):\n",
    "#     \"\"\"Return number of days in that month in that year.\"\"\"\n",
    "    \n",
    "#     return year % 4 == 0 and (year % 100 != 0 or year % 400 == 0)\n",
    "\n",
    "# def days_in_month(year, month):\n",
    "#     \"\"\"Return number of days in that month in that year.\"\"\"\n",
    "    \n",
    "#     if not 1 <= month <= 12:\n",
    "#         return 'Invalid Month'\n",
    "    \n",
    "#     if month == 2 and is_leap(year):\n",
    "#         return 29\n",
    "    \n",
    "#     return month_days[month]\n",
    "\n",
    "# print(is_leap(2017))"
   ]
  },
  {
   "cell_type": "code",
   "execution_count": 70,
   "id": "8efa0f15",
   "metadata": {},
   "outputs": [],
   "source": [
    "#  month_days = [0, 31, 28, 31, 30, 31, 31, 30, 31, 30, 31]\n",
    "\n",
    "    \n",
    "# def is_leap(year):\n",
    "#     \"\"\"Return number of days in that month in that year.\"\"\"\n",
    "    \n",
    "#     return year % 4 == 0 and (year % 100 != 0 or year % 400 == 0)\n",
    "\n",
    "# def days_in_month(year, month):\n",
    "#     \"\"\"Return number of days in that month in that year.\"\"\"\n",
    "    \n",
    "#     if not 1 <= month <= 12:\n",
    "#         return 'Invalid Month'\n",
    "    \n",
    "#     if month == 2 and is_leap(year):\n",
    "#         return 29\n",
    "    \n",
    "#     return month_days[month]\n",
    "\n",
    "# print(is_leap(2020))"
   ]
  },
  {
   "cell_type": "code",
   "execution_count": 76,
   "id": "cfcf4322",
   "metadata": {},
   "outputs": [],
   "source": [
    "#  month_days = [0, 31, 28, 31, 30, 31, 31, 30, 31, 30, 31]\n",
    "\n",
    "    \n",
    "# def is_leap(year):\n",
    "#     \"\"\"Return number of days in that month in that year.\"\"\"\n",
    "    \n",
    "#     return year % 4 == 0 and (year % 100 != 0 or year % 400 == 0)\n",
    "\n",
    "# def days_in_month(year, month):\n",
    "#     \"\"\"Return number of days in that month in that year.\"\"\"\n",
    "    \n",
    "#     if not 1 <= month <= 12:\n",
    "#         return 'Invalid Month'\n",
    "    \n",
    "#     if month == 2 and is_leap(year):\n",
    "#         return 29\n",
    "    \n",
    "#     return month_days[month]\n",
    "\n",
    "# print(days_in_month(2017, 2))"
   ]
  },
  {
   "cell_type": "code",
   "execution_count": 77,
   "id": "a7cb2504",
   "metadata": {},
   "outputs": [],
   "source": [
    "#  month_days = [0, 31, 28, 31, 30, 31, 31, 30, 31, 30, 31]\n",
    "\n",
    "    \n",
    "# def is_leap(year):\n",
    "#     \"\"\"Return number of days in that month in that year.\"\"\"\n",
    "    \n",
    "#     return year % 4 == 0 and (year % 100 != 0 or year % 400 == 0)\n",
    "\n",
    "# def days_in_month(year, month):\n",
    "#     \"\"\"Return number of days in that month in that year.\"\"\"\n",
    "#     # year 2017\n",
    "#     # month 2\n",
    "#     if not 1 <= month <= 12:\n",
    "#         return 'Invalid Month'\n",
    "    \n",
    "#     if month == 2 and is_leap(year):\n",
    "#         return 29\n",
    "    \n",
    "#     return month_days[month]\n",
    "\n",
    "# print(days_in_month(2017, 2))"
   ]
  },
  {
   "cell_type": "code",
   "execution_count": null,
   "id": "1a9f801d",
   "metadata": {},
   "outputs": [],
   "source": [
    "\n",
    "#  month_days = [0, 31, 28, 31, 30, 31, 31, 30, 31, 30, 31]\n",
    "\n",
    "    \n",
    "# def is_leap(year):\n",
    "#     \"\"\"Return number of days in that month in that year.\"\"\"\n",
    "    \n",
    "#     return year % 4 == 0 and (year % 100 != 0 or year % 400 == 0)\n",
    "\n",
    "# def days_in_month(year, month):\n",
    "#     \"\"\"Return number of days in that month in that year.\"\"\"\n",
    "#     # year 2017\n",
    "#     # month 2\n",
    "#     if not 1 <= month <= 12:\n",
    "#         return 'Invalid Month'\n",
    "    \n",
    "#     if month == 2 and is_leap(year):\n",
    "#         return 29\n",
    "    \n",
    "#     return month_days[month]\n",
    "\n",
    "# print(days_in_month(2017, 2))"
   ]
  }
 ],
 "metadata": {
  "kernelspec": {
   "display_name": "Python 3 (ipykernel)",
   "language": "python",
   "name": "python3"
  },
  "language_info": {
   "codemirror_mode": {
    "name": "ipython",
    "version": 3
   },
   "file_extension": ".py",
   "mimetype": "text/x-python",
   "name": "python",
   "nbconvert_exporter": "python",
   "pygments_lexer": "ipython3",
   "version": "3.9.2"
  }
 },
 "nbformat": 4,
 "nbformat_minor": 5
}
